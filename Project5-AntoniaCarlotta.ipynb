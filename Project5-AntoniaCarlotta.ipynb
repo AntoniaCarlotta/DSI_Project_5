{
 "cells": [
  {
   "cell_type": "code",
   "execution_count": 1,
   "metadata": {
    "collapsed": false
   },
   "outputs": [],
   "source": [
    "import numpy as np\n",
    "import pandas as pd \n",
    "import matplotlib.pyplot as plt\n",
    "from patsy import dmatrices\n",
    "from sklearn.linear_model import LogisticRegression\n",
    "from sklearn.cross_validation import train_test_split, cross_val_score\n",
    "from sklearn import metrics\n",
    "\n",
    "%matplotlib inline"
   ]
  },
  {
   "cell_type": "markdown",
   "metadata": {},
   "source": [
    "## Pre-Task: Describe the goals of your study"
   ]
  },
  {
   "cell_type": "markdown",
   "metadata": {},
   "source": [
    "  "
   ]
  },
  {
   "cell_type": "markdown",
   "metadata": {},
   "source": [
    "## Part 1: Aquire the Data"
   ]
  },
  {
   "cell_type": "code",
   "execution_count": 2,
   "metadata": {
    "collapsed": false
   },
   "outputs": [],
   "source": [
    "#!psql -h dsi.c20gkj5cvu3l.us-east-1.rds.amazonaws.com -p 5432 -U dsi_student titanic\n",
    "#password: gastudents"
   ]
  },
  {
   "cell_type": "markdown",
   "metadata": {},
   "source": [
    "#### 1. Connect to the remote database"
   ]
  },
  {
   "cell_type": "code",
   "execution_count": 3,
   "metadata": {
    "collapsed": true
   },
   "outputs": [],
   "source": [
    "import pandas as pd\n",
    "from pandas.io import sql\n",
    "import sqlite3\n",
    "conn = sqlite3.connect('thetitanic.db')"
   ]
  },
  {
   "cell_type": "code",
   "execution_count": 4,
   "metadata": {
    "collapsed": false
   },
   "outputs": [],
   "source": [
    "pd.read_csv('thetitanic.csv').to_sql('thetitanic', con=conn, if_exists='replace', index=False)"
   ]
  },
  {
   "cell_type": "code",
   "execution_count": 5,
   "metadata": {
    "collapsed": false
   },
   "outputs": [
    {
     "data": {
      "text/html": [
       "<div>\n",
       "<table border=\"1\" class=\"dataframe\">\n",
       "  <thead>\n",
       "    <tr style=\"text-align: right;\">\n",
       "      <th></th>\n",
       "      <th>index</th>\n",
       "      <th>PassengerId</th>\n",
       "      <th>Survived</th>\n",
       "      <th>Pclass</th>\n",
       "      <th>Name</th>\n",
       "      <th>Sex</th>\n",
       "      <th>Age</th>\n",
       "      <th>SibSp</th>\n",
       "      <th>Parch</th>\n",
       "      <th>Ticket</th>\n",
       "      <th>Fare</th>\n",
       "      <th>Cabin</th>\n",
       "      <th>Embarked</th>\n",
       "    </tr>\n",
       "  </thead>\n",
       "  <tbody>\n",
       "    <tr>\n",
       "      <th>0</th>\n",
       "      <td>0</td>\n",
       "      <td>1</td>\n",
       "      <td>0</td>\n",
       "      <td>3</td>\n",
       "      <td>Braund, Mr. Owen Harris</td>\n",
       "      <td>male</td>\n",
       "      <td>22.0</td>\n",
       "      <td>1</td>\n",
       "      <td>0</td>\n",
       "      <td>A/5 21171</td>\n",
       "      <td>7.2500</td>\n",
       "      <td>None</td>\n",
       "      <td>S</td>\n",
       "    </tr>\n",
       "    <tr>\n",
       "      <th>1</th>\n",
       "      <td>1</td>\n",
       "      <td>2</td>\n",
       "      <td>1</td>\n",
       "      <td>1</td>\n",
       "      <td>Cumings, Mrs. John Bradley (Florence Briggs Th...</td>\n",
       "      <td>female</td>\n",
       "      <td>38.0</td>\n",
       "      <td>1</td>\n",
       "      <td>0</td>\n",
       "      <td>PC 17599</td>\n",
       "      <td>71.2833</td>\n",
       "      <td>C85</td>\n",
       "      <td>C</td>\n",
       "    </tr>\n",
       "    <tr>\n",
       "      <th>2</th>\n",
       "      <td>2</td>\n",
       "      <td>3</td>\n",
       "      <td>1</td>\n",
       "      <td>3</td>\n",
       "      <td>Heikkinen, Miss. Laina</td>\n",
       "      <td>female</td>\n",
       "      <td>26.0</td>\n",
       "      <td>0</td>\n",
       "      <td>0</td>\n",
       "      <td>STON/O2. 3101282</td>\n",
       "      <td>7.9250</td>\n",
       "      <td>None</td>\n",
       "      <td>S</td>\n",
       "    </tr>\n",
       "  </tbody>\n",
       "</table>\n",
       "</div>"
      ],
      "text/plain": [
       "   index  PassengerId  Survived  Pclass  \\\n",
       "0      0            1         0       3   \n",
       "1      1            2         1       1   \n",
       "2      2            3         1       3   \n",
       "\n",
       "                                                Name     Sex   Age  SibSp  \\\n",
       "0                            Braund, Mr. Owen Harris    male  22.0      1   \n",
       "1  Cumings, Mrs. John Bradley (Florence Briggs Th...  female  38.0      1   \n",
       "2                             Heikkinen, Miss. Laina  female  26.0      0   \n",
       "\n",
       "   Parch            Ticket     Fare Cabin Embarked  \n",
       "0      0         A/5 21171   7.2500  None        S  \n",
       "1      0          PC 17599  71.2833   C85        C  \n",
       "2      0  STON/O2. 3101282   7.9250  None        S  "
      ]
     },
     "execution_count": 5,
     "metadata": {},
     "output_type": "execute_result"
    }
   ],
   "source": [
    "sql.read_sql('SELECT * FROM thetitanic LIMIT 3', con=conn)"
   ]
  },
  {
   "cell_type": "code",
   "execution_count": 6,
   "metadata": {
    "collapsed": false
   },
   "outputs": [],
   "source": [
    "titanic = pd.read_csv('thetitanic.csv')"
   ]
  },
  {
   "cell_type": "code",
   "execution_count": 7,
   "metadata": {
    "collapsed": false
   },
   "outputs": [],
   "source": [
    "titanic = titanic.fillna(titanic.mean(), inplace = True)"
   ]
  },
  {
   "cell_type": "code",
   "execution_count": 8,
   "metadata": {
    "collapsed": false
   },
   "outputs": [
    {
     "data": {
      "text/plain": [
       "index            0\n",
       "PassengerId      0\n",
       "Survived         0\n",
       "Pclass           0\n",
       "Name             0\n",
       "Sex              0\n",
       "Age              0\n",
       "SibSp            0\n",
       "Parch            0\n",
       "Ticket           0\n",
       "Fare             0\n",
       "Cabin          687\n",
       "Embarked         2\n",
       "dtype: int64"
      ]
     },
     "execution_count": 8,
     "metadata": {},
     "output_type": "execute_result"
    }
   ],
   "source": [
    "titanic.isnull().sum()"
   ]
  },
  {
   "cell_type": "markdown",
   "metadata": {},
   "source": [
    "#### 2. Query the database and aggregate the data"
   ]
  },
  {
   "cell_type": "code",
   "execution_count": 9,
   "metadata": {
    "collapsed": false,
    "scrolled": false
   },
   "outputs": [
    {
     "data": {
      "text/html": [
       "<div>\n",
       "<table border=\"1\" class=\"dataframe\">\n",
       "  <thead>\n",
       "    <tr style=\"text-align: right;\">\n",
       "      <th></th>\n",
       "      <th>index</th>\n",
       "      <th>PassengerId</th>\n",
       "      <th>Survived</th>\n",
       "      <th>Pclass</th>\n",
       "      <th>Name</th>\n",
       "      <th>Sex</th>\n",
       "      <th>Age</th>\n",
       "      <th>SibSp</th>\n",
       "      <th>Parch</th>\n",
       "      <th>Ticket</th>\n",
       "      <th>Fare</th>\n",
       "      <th>Cabin</th>\n",
       "      <th>Embarked</th>\n",
       "    </tr>\n",
       "  </thead>\n",
       "  <tbody>\n",
       "    <tr>\n",
       "      <th>0</th>\n",
       "      <td>0</td>\n",
       "      <td>1</td>\n",
       "      <td>0</td>\n",
       "      <td>3</td>\n",
       "      <td>Braund, Mr. Owen Harris</td>\n",
       "      <td>male</td>\n",
       "      <td>22.0</td>\n",
       "      <td>1</td>\n",
       "      <td>0</td>\n",
       "      <td>A/5 21171</td>\n",
       "      <td>7.2500</td>\n",
       "      <td>NaN</td>\n",
       "      <td>S</td>\n",
       "    </tr>\n",
       "    <tr>\n",
       "      <th>1</th>\n",
       "      <td>1</td>\n",
       "      <td>2</td>\n",
       "      <td>1</td>\n",
       "      <td>1</td>\n",
       "      <td>Cumings, Mrs. John Bradley (Florence Briggs Th...</td>\n",
       "      <td>female</td>\n",
       "      <td>38.0</td>\n",
       "      <td>1</td>\n",
       "      <td>0</td>\n",
       "      <td>PC 17599</td>\n",
       "      <td>71.2833</td>\n",
       "      <td>C85</td>\n",
       "      <td>C</td>\n",
       "    </tr>\n",
       "    <tr>\n",
       "      <th>2</th>\n",
       "      <td>2</td>\n",
       "      <td>3</td>\n",
       "      <td>1</td>\n",
       "      <td>3</td>\n",
       "      <td>Heikkinen, Miss. Laina</td>\n",
       "      <td>female</td>\n",
       "      <td>26.0</td>\n",
       "      <td>0</td>\n",
       "      <td>0</td>\n",
       "      <td>STON/O2. 3101282</td>\n",
       "      <td>7.9250</td>\n",
       "      <td>NaN</td>\n",
       "      <td>S</td>\n",
       "    </tr>\n",
       "  </tbody>\n",
       "</table>\n",
       "</div>"
      ],
      "text/plain": [
       "   index  PassengerId  Survived  Pclass  \\\n",
       "0      0            1         0       3   \n",
       "1      1            2         1       1   \n",
       "2      2            3         1       3   \n",
       "\n",
       "                                                Name     Sex   Age  SibSp  \\\n",
       "0                            Braund, Mr. Owen Harris    male  22.0      1   \n",
       "1  Cumings, Mrs. John Bradley (Florence Briggs Th...  female  38.0      1   \n",
       "2                             Heikkinen, Miss. Laina  female  26.0      0   \n",
       "\n",
       "   Parch            Ticket     Fare Cabin Embarked  \n",
       "0      0         A/5 21171   7.2500   NaN        S  \n",
       "1      0          PC 17599  71.2833   C85        C  \n",
       "2      0  STON/O2. 3101282   7.9250   NaN        S  "
      ]
     },
     "execution_count": 9,
     "metadata": {},
     "output_type": "execute_result"
    }
   ],
   "source": [
    "titanic.head(3)"
   ]
  },
  {
   "cell_type": "markdown",
   "metadata": {},
   "source": [
    "    "
   ]
  },
  {
   "cell_type": "markdown",
   "metadata": {},
   "source": [
    "## Part 2: Exploratory Data Analysis"
   ]
  },
  {
   "cell_type": "markdown",
   "metadata": {},
   "source": [
    "#### 1. Describe the Data"
   ]
  },
  {
   "cell_type": "markdown",
   "metadata": {
    "collapsed": true
   },
   "source": [
    "This data has information on the passengers of the Titanic, including age, sex, siblings & spouses, parents & children, fare price, embarking city, and more. I will use relevant items in the data to predict passengers' likelihood of survival. "
   ]
  },
  {
   "cell_type": "markdown",
   "metadata": {},
   "source": [
    "#### 2. Visualize the Data"
   ]
  },
  {
   "cell_type": "code",
   "execution_count": 10,
   "metadata": {
    "collapsed": false,
    "scrolled": true
   },
   "outputs": [
    {
     "data": {
      "text/plain": [
       "Sex     Survived\n",
       "female  1           233\n",
       "        0            81\n",
       "male    0           468\n",
       "        1           109\n",
       "Name: Survived, dtype: int64"
      ]
     },
     "execution_count": 10,
     "metadata": {},
     "output_type": "execute_result"
    }
   ],
   "source": [
    "titanic.groupby('Sex')['Survived'].value_counts()"
   ]
  },
  {
   "cell_type": "code",
   "execution_count": 11,
   "metadata": {
    "collapsed": false
   },
   "outputs": [
    {
     "data": {
      "text/plain": [
       "13.002015226002884"
      ]
     },
     "execution_count": 11,
     "metadata": {},
     "output_type": "execute_result"
    }
   ],
   "source": [
    "titanic['Age'].std()"
   ]
  },
  {
   "cell_type": "code",
   "execution_count": 51,
   "metadata": {
    "collapsed": false,
    "scrolled": false
   },
   "outputs": [
    {
     "data": {
      "text/plain": [
       "<matplotlib.axes._subplots.AxesSubplot at 0x11d96b290>"
      ]
     },
     "execution_count": 51,
     "metadata": {},
     "output_type": "execute_result"
    },
    {
     "data": {
      "image/png": "[encoded data removed]",
      "text/plain": [
       "<matplotlib.figure.Figure at 0x11ac024d0>"
      ]
     },
     "metadata": {
      "image/png": {
       "height": 384,
       "width": 559
      }
     },
     "output_type": "display_data"
    }
   ],
   "source": [
    "sns.set_style('whitegrid')\n",
    "sns.countplot(x='Survived', hue='Pclass', data=titanic)"
   ]
  },
  {
   "cell_type": "code",
   "execution_count": 52,
   "metadata": {
    "collapsed": false
   },
   "outputs": [
    {
     "data": {
      "text/plain": [
       "<matplotlib.axes._subplots.AxesSubplot at 0x11ddf33d0>"
      ]
     },
     "execution_count": 52,
     "metadata": {},
     "output_type": "execute_result"
    },
    {
     "data": {
      "image/png": "[encoded data removed]",
      "text/plain": [
       "<matplotlib.figure.Figure at 0x11d4d95d0>"
      ]
     },
     "metadata": {
      "image/png": {
       "height": 384,
       "width": 559
      }
     },
     "output_type": "display_data"
    }
   ],
   "source": [
    "sns.set_style('whitegrid')\n",
    "sns.countplot(x='Survived', hue='Sex', data=titanic)"
   ]
  },
  {
   "cell_type": "code",
   "execution_count": 53,
   "metadata": {
    "collapsed": false
   },
   "outputs": [
    {
     "data": {
      "text/plain": [
       "<matplotlib.axes._subplots.AxesSubplot at 0x11e2747d0>"
      ]
     },
     "execution_count": 53,
     "metadata": {},
     "output_type": "execute_result"
    },
    {
     "data": {
      "image/png": "[encoded data removed]",
      "text/plain": [
       "<matplotlib.figure.Figure at 0x1062c82d0>"
      ]
     },
     "metadata": {
      "image/png": {
       "height": 384,
       "width": 559
      }
     },
     "output_type": "display_data"
    }
   ],
   "source": [
    "sns.set_style('whitegrid')\n",
    "sns.countplot(x='Survived', hue='Embarked', data=titanic)"
   ]
  },
  {
   "cell_type": "markdown",
   "metadata": {},
   "source": [
    "## Part 3: Data Wrangling"
   ]
  },
  {
   "cell_type": "markdown",
   "metadata": {},
   "source": [
    "#### 1. Create Dummy Variables for *Sex*  use sklearn pipline"
   ]
  },
  {
   "cell_type": "code",
   "execution_count": 12,
   "metadata": {
    "collapsed": true
   },
   "outputs": [],
   "source": [
    "titanic[['Male', 'Female']] = pd.get_dummies(titanic['Sex'])"
   ]
  },
  {
   "cell_type": "code",
   "execution_count": 13,
   "metadata": {
    "collapsed": false
   },
   "outputs": [
    {
     "data": {
      "text/html": [
       "<div>\n",
       "<table border=\"1\" class=\"dataframe\">\n",
       "  <thead>\n",
       "    <tr style=\"text-align: right;\">\n",
       "      <th></th>\n",
       "      <th>index</th>\n",
       "      <th>PassengerId</th>\n",
       "      <th>Survived</th>\n",
       "      <th>Pclass</th>\n",
       "      <th>Name</th>\n",
       "      <th>Sex</th>\n",
       "      <th>Age</th>\n",
       "      <th>SibSp</th>\n",
       "      <th>Parch</th>\n",
       "      <th>Ticket</th>\n",
       "      <th>Fare</th>\n",
       "      <th>Cabin</th>\n",
       "      <th>Embarked</th>\n",
       "      <th>Male</th>\n",
       "      <th>Female</th>\n",
       "    </tr>\n",
       "  </thead>\n",
       "  <tbody>\n",
       "    <tr>\n",
       "      <th>0</th>\n",
       "      <td>0</td>\n",
       "      <td>1</td>\n",
       "      <td>0</td>\n",
       "      <td>3</td>\n",
       "      <td>Braund, Mr. Owen Harris</td>\n",
       "      <td>male</td>\n",
       "      <td>22.000000</td>\n",
       "      <td>1</td>\n",
       "      <td>0</td>\n",
       "      <td>A/5 21171</td>\n",
       "      <td>7.2500</td>\n",
       "      <td>NaN</td>\n",
       "      <td>S</td>\n",
       "      <td>0.0</td>\n",
       "      <td>1.0</td>\n",
       "    </tr>\n",
       "    <tr>\n",
       "      <th>1</th>\n",
       "      <td>1</td>\n",
       "      <td>2</td>\n",
       "      <td>1</td>\n",
       "      <td>1</td>\n",
       "      <td>Cumings, Mrs. John Bradley (Florence Briggs Th...</td>\n",
       "      <td>female</td>\n",
       "      <td>38.000000</td>\n",
       "      <td>1</td>\n",
       "      <td>0</td>\n",
       "      <td>PC 17599</td>\n",
       "      <td>71.2833</td>\n",
       "      <td>C85</td>\n",
       "      <td>C</td>\n",
       "      <td>1.0</td>\n",
       "      <td>0.0</td>\n",
       "    </tr>\n",
       "    <tr>\n",
       "      <th>2</th>\n",
       "      <td>2</td>\n",
       "      <td>3</td>\n",
       "      <td>1</td>\n",
       "      <td>3</td>\n",
       "      <td>Heikkinen, Miss. Laina</td>\n",
       "      <td>female</td>\n",
       "      <td>26.000000</td>\n",
       "      <td>0</td>\n",
       "      <td>0</td>\n",
       "      <td>STON/O2. 3101282</td>\n",
       "      <td>7.9250</td>\n",
       "      <td>NaN</td>\n",
       "      <td>S</td>\n",
       "      <td>1.0</td>\n",
       "      <td>0.0</td>\n",
       "    </tr>\n",
       "    <tr>\n",
       "      <th>3</th>\n",
       "      <td>3</td>\n",
       "      <td>4</td>\n",
       "      <td>1</td>\n",
       "      <td>1</td>\n",
       "      <td>Futrelle, Mrs. Jacques Heath (Lily May Peel)</td>\n",
       "      <td>female</td>\n",
       "      <td>35.000000</td>\n",
       "      <td>1</td>\n",
       "      <td>0</td>\n",
       "      <td>113803</td>\n",
       "      <td>53.1000</td>\n",
       "      <td>C123</td>\n",
       "      <td>S</td>\n",
       "      <td>1.0</td>\n",
       "      <td>0.0</td>\n",
       "    </tr>\n",
       "    <tr>\n",
       "      <th>4</th>\n",
       "      <td>4</td>\n",
       "      <td>5</td>\n",
       "      <td>0</td>\n",
       "      <td>3</td>\n",
       "      <td>Allen, Mr. William Henry</td>\n",
       "      <td>male</td>\n",
       "      <td>35.000000</td>\n",
       "      <td>0</td>\n",
       "      <td>0</td>\n",
       "      <td>373450</td>\n",
       "      <td>8.0500</td>\n",
       "      <td>NaN</td>\n",
       "      <td>S</td>\n",
       "      <td>0.0</td>\n",
       "      <td>1.0</td>\n",
       "    </tr>\n",
       "    <tr>\n",
       "      <th>5</th>\n",
       "      <td>5</td>\n",
       "      <td>6</td>\n",
       "      <td>0</td>\n",
       "      <td>3</td>\n",
       "      <td>Moran, Mr. James</td>\n",
       "      <td>male</td>\n",
       "      <td>29.699118</td>\n",
       "      <td>0</td>\n",
       "      <td>0</td>\n",
       "      <td>330877</td>\n",
       "      <td>8.4583</td>\n",
       "      <td>NaN</td>\n",
       "      <td>Q</td>\n",
       "      <td>0.0</td>\n",
       "      <td>1.0</td>\n",
       "    </tr>\n",
       "    <tr>\n",
       "      <th>6</th>\n",
       "      <td>6</td>\n",
       "      <td>7</td>\n",
       "      <td>0</td>\n",
       "      <td>1</td>\n",
       "      <td>McCarthy, Mr. Timothy J</td>\n",
       "      <td>male</td>\n",
       "      <td>54.000000</td>\n",
       "      <td>0</td>\n",
       "      <td>0</td>\n",
       "      <td>17463</td>\n",
       "      <td>51.8625</td>\n",
       "      <td>E46</td>\n",
       "      <td>S</td>\n",
       "      <td>0.0</td>\n",
       "      <td>1.0</td>\n",
       "    </tr>\n",
       "    <tr>\n",
       "      <th>7</th>\n",
       "      <td>7</td>\n",
       "      <td>8</td>\n",
       "      <td>0</td>\n",
       "      <td>3</td>\n",
       "      <td>Palsson, Master. Gosta Leonard</td>\n",
       "      <td>male</td>\n",
       "      <td>2.000000</td>\n",
       "      <td>3</td>\n",
       "      <td>1</td>\n",
       "      <td>349909</td>\n",
       "      <td>21.0750</td>\n",
       "      <td>NaN</td>\n",
       "      <td>S</td>\n",
       "      <td>0.0</td>\n",
       "      <td>1.0</td>\n",
       "    </tr>\n",
       "    <tr>\n",
       "      <th>8</th>\n",
       "      <td>8</td>\n",
       "      <td>9</td>\n",
       "      <td>1</td>\n",
       "      <td>3</td>\n",
       "      <td>Johnson, Mrs. Oscar W (Elisabeth Vilhelmina Berg)</td>\n",
       "      <td>female</td>\n",
       "      <td>27.000000</td>\n",
       "      <td>0</td>\n",
       "      <td>2</td>\n",
       "      <td>347742</td>\n",
       "      <td>11.1333</td>\n",
       "      <td>NaN</td>\n",
       "      <td>S</td>\n",
       "      <td>1.0</td>\n",
       "      <td>0.0</td>\n",
       "    </tr>\n",
       "    <tr>\n",
       "      <th>9</th>\n",
       "      <td>9</td>\n",
       "      <td>10</td>\n",
       "      <td>1</td>\n",
       "      <td>2</td>\n",
       "      <td>Nasser, Mrs. Nicholas (Adele Achem)</td>\n",
       "      <td>female</td>\n",
       "      <td>14.000000</td>\n",
       "      <td>1</td>\n",
       "      <td>0</td>\n",
       "      <td>237736</td>\n",
       "      <td>30.0708</td>\n",
       "      <td>NaN</td>\n",
       "      <td>C</td>\n",
       "      <td>1.0</td>\n",
       "      <td>0.0</td>\n",
       "    </tr>\n",
       "    <tr>\n",
       "      <th>10</th>\n",
       "      <td>10</td>\n",
       "      <td>11</td>\n",
       "      <td>1</td>\n",
       "      <td>3</td>\n",
       "      <td>Sandstrom, Miss. Marguerite Rut</td>\n",
       "      <td>female</td>\n",
       "      <td>4.000000</td>\n",
       "      <td>1</td>\n",
       "      <td>1</td>\n",
       "      <td>PP 9549</td>\n",
       "      <td>16.7000</td>\n",
       "      <td>G6</td>\n",
       "      <td>S</td>\n",
       "      <td>1.0</td>\n",
       "      <td>0.0</td>\n",
       "    </tr>\n",
       "    <tr>\n",
       "      <th>11</th>\n",
       "      <td>11</td>\n",
       "      <td>12</td>\n",
       "      <td>1</td>\n",
       "      <td>1</td>\n",
       "      <td>Bonnell, Miss. Elizabeth</td>\n",
       "      <td>female</td>\n",
       "      <td>58.000000</td>\n",
       "      <td>0</td>\n",
       "      <td>0</td>\n",
       "      <td>113783</td>\n",
       "      <td>26.5500</td>\n",
       "      <td>C103</td>\n",
       "      <td>S</td>\n",
       "      <td>1.0</td>\n",
       "      <td>0.0</td>\n",
       "    </tr>\n",
       "    <tr>\n",
       "      <th>12</th>\n",
       "      <td>12</td>\n",
       "      <td>13</td>\n",
       "      <td>0</td>\n",
       "      <td>3</td>\n",
       "      <td>Saundercock, Mr. William Henry</td>\n",
       "      <td>male</td>\n",
       "      <td>20.000000</td>\n",
       "      <td>0</td>\n",
       "      <td>0</td>\n",
       "      <td>A/5. 2151</td>\n",
       "      <td>8.0500</td>\n",
       "      <td>NaN</td>\n",
       "      <td>S</td>\n",
       "      <td>0.0</td>\n",
       "      <td>1.0</td>\n",
       "    </tr>\n",
       "    <tr>\n",
       "      <th>13</th>\n",
       "      <td>13</td>\n",
       "      <td>14</td>\n",
       "      <td>0</td>\n",
       "      <td>3</td>\n",
       "      <td>Andersson, Mr. Anders Johan</td>\n",
       "      <td>male</td>\n",
       "      <td>39.000000</td>\n",
       "      <td>1</td>\n",
       "      <td>5</td>\n",
       "      <td>347082</td>\n",
       "      <td>31.2750</td>\n",
       "      <td>NaN</td>\n",
       "      <td>S</td>\n",
       "      <td>0.0</td>\n",
       "      <td>1.0</td>\n",
       "    </tr>\n",
       "    <tr>\n",
       "      <th>14</th>\n",
       "      <td>14</td>\n",
       "      <td>15</td>\n",
       "      <td>0</td>\n",
       "      <td>3</td>\n",
       "      <td>Vestrom, Miss. Hulda Amanda Adolfina</td>\n",
       "      <td>female</td>\n",
       "      <td>14.000000</td>\n",
       "      <td>0</td>\n",
       "      <td>0</td>\n",
       "      <td>350406</td>\n",
       "      <td>7.8542</td>\n",
       "      <td>NaN</td>\n",
       "      <td>S</td>\n",
       "      <td>1.0</td>\n",
       "      <td>0.0</td>\n",
       "    </tr>\n",
       "    <tr>\n",
       "      <th>15</th>\n",
       "      <td>15</td>\n",
       "      <td>16</td>\n",
       "      <td>1</td>\n",
       "      <td>2</td>\n",
       "      <td>Hewlett, Mrs. (Mary D Kingcome)</td>\n",
       "      <td>female</td>\n",
       "      <td>55.000000</td>\n",
       "      <td>0</td>\n",
       "      <td>0</td>\n",
       "      <td>248706</td>\n",
       "      <td>16.0000</td>\n",
       "      <td>NaN</td>\n",
       "      <td>S</td>\n",
       "      <td>1.0</td>\n",
       "      <td>0.0</td>\n",
       "    </tr>\n",
       "    <tr>\n",
       "      <th>16</th>\n",
       "      <td>16</td>\n",
       "      <td>17</td>\n",
       "      <td>0</td>\n",
       "      <td>3</td>\n",
       "      <td>Rice, Master. Eugene</td>\n",
       "      <td>male</td>\n",
       "      <td>2.000000</td>\n",
       "      <td>4</td>\n",
       "      <td>1</td>\n",
       "      <td>382652</td>\n",
       "      <td>29.1250</td>\n",
       "      <td>NaN</td>\n",
       "      <td>Q</td>\n",
       "      <td>0.0</td>\n",
       "      <td>1.0</td>\n",
       "    </tr>\n",
       "    <tr>\n",
       "      <th>17</th>\n",
       "      <td>17</td>\n",
       "      <td>18</td>\n",
       "      <td>1</td>\n",
       "      <td>2</td>\n",
       "      <td>Williams, Mr. Charles Eugene</td>\n",
       "      <td>male</td>\n",
       "      <td>29.699118</td>\n",
       "      <td>0</td>\n",
       "      <td>0</td>\n",
       "      <td>244373</td>\n",
       "      <td>13.0000</td>\n",
       "      <td>NaN</td>\n",
       "      <td>S</td>\n",
       "      <td>0.0</td>\n",
       "      <td>1.0</td>\n",
       "    </tr>\n",
       "    <tr>\n",
       "      <th>18</th>\n",
       "      <td>18</td>\n",
       "      <td>19</td>\n",
       "      <td>0</td>\n",
       "      <td>3</td>\n",
       "      <td>Vander Planke, Mrs. Julius (Emelia Maria Vande...</td>\n",
       "      <td>female</td>\n",
       "      <td>31.000000</td>\n",
       "      <td>1</td>\n",
       "      <td>0</td>\n",
       "      <td>345763</td>\n",
       "      <td>18.0000</td>\n",
       "      <td>NaN</td>\n",
       "      <td>S</td>\n",
       "      <td>1.0</td>\n",
       "      <td>0.0</td>\n",
       "    </tr>\n",
       "    <tr>\n",
       "      <th>19</th>\n",
       "      <td>19</td>\n",
       "      <td>20</td>\n",
       "      <td>1</td>\n",
       "      <td>3</td>\n",
       "      <td>Masselmani, Mrs. Fatima</td>\n",
       "      <td>female</td>\n",
       "      <td>29.699118</td>\n",
       "      <td>0</td>\n",
       "      <td>0</td>\n",
       "      <td>2649</td>\n",
       "      <td>7.2250</td>\n",
       "      <td>NaN</td>\n",
       "      <td>C</td>\n",
       "      <td>1.0</td>\n",
       "      <td>0.0</td>\n",
       "    </tr>\n",
       "    <tr>\n",
       "      <th>20</th>\n",
       "      <td>20</td>\n",
       "      <td>21</td>\n",
       "      <td>0</td>\n",
       "      <td>2</td>\n",
       "      <td>Fynney, Mr. Joseph J</td>\n",
       "      <td>male</td>\n",
       "      <td>35.000000</td>\n",
       "      <td>0</td>\n",
       "      <td>0</td>\n",
       "      <td>239865</td>\n",
       "      <td>26.0000</td>\n",
       "      <td>NaN</td>\n",
       "      <td>S</td>\n",
       "      <td>0.0</td>\n",
       "      <td>1.0</td>\n",
       "    </tr>\n",
       "    <tr>\n",
       "      <th>21</th>\n",
       "      <td>21</td>\n",
       "      <td>22</td>\n",
       "      <td>1</td>\n",
       "      <td>2</td>\n",
       "      <td>Beesley, Mr. Lawrence</td>\n",
       "      <td>male</td>\n",
       "      <td>34.000000</td>\n",
       "      <td>0</td>\n",
       "      <td>0</td>\n",
       "      <td>248698</td>\n",
       "      <td>13.0000</td>\n",
       "      <td>D56</td>\n",
       "      <td>S</td>\n",
       "      <td>0.0</td>\n",
       "      <td>1.0</td>\n",
       "    </tr>\n",
       "    <tr>\n",
       "      <th>22</th>\n",
       "      <td>22</td>\n",
       "      <td>23</td>\n",
       "      <td>1</td>\n",
       "      <td>3</td>\n",
       "      <td>McGowan, Miss. Anna \"Annie\"</td>\n",
       "      <td>female</td>\n",
       "      <td>15.000000</td>\n",
       "      <td>0</td>\n",
       "      <td>0</td>\n",
       "      <td>330923</td>\n",
       "      <td>8.0292</td>\n",
       "      <td>NaN</td>\n",
       "      <td>Q</td>\n",
       "      <td>1.0</td>\n",
       "      <td>0.0</td>\n",
       "    </tr>\n",
       "    <tr>\n",
       "      <th>23</th>\n",
       "      <td>23</td>\n",
       "      <td>24</td>\n",
       "      <td>1</td>\n",
       "      <td>1</td>\n",
       "      <td>Sloper, Mr. William Thompson</td>\n",
       "      <td>male</td>\n",
       "      <td>28.000000</td>\n",
       "      <td>0</td>\n",
       "      <td>0</td>\n",
       "      <td>113788</td>\n",
       "      <td>35.5000</td>\n",
       "      <td>A6</td>\n",
       "      <td>S</td>\n",
       "      <td>0.0</td>\n",
       "      <td>1.0</td>\n",
       "    </tr>\n",
       "    <tr>\n",
       "      <th>24</th>\n",
       "      <td>24</td>\n",
       "      <td>25</td>\n",
       "      <td>0</td>\n",
       "      <td>3</td>\n",
       "      <td>Palsson, Miss. Torborg Danira</td>\n",
       "      <td>female</td>\n",
       "      <td>8.000000</td>\n",
       "      <td>3</td>\n",
       "      <td>1</td>\n",
       "      <td>349909</td>\n",
       "      <td>21.0750</td>\n",
       "      <td>NaN</td>\n",
       "      <td>S</td>\n",
       "      <td>1.0</td>\n",
       "      <td>0.0</td>\n",
       "    </tr>\n",
       "    <tr>\n",
       "      <th>25</th>\n",
       "      <td>25</td>\n",
       "      <td>26</td>\n",
       "      <td>1</td>\n",
       "      <td>3</td>\n",
       "      <td>Asplund, Mrs. Carl Oscar (Selma Augusta Emilia...</td>\n",
       "      <td>female</td>\n",
       "      <td>38.000000</td>\n",
       "      <td>1</td>\n",
       "      <td>5</td>\n",
       "      <td>347077</td>\n",
       "      <td>31.3875</td>\n",
       "      <td>NaN</td>\n",
       "      <td>S</td>\n",
       "      <td>1.0</td>\n",
       "      <td>0.0</td>\n",
       "    </tr>\n",
       "    <tr>\n",
       "      <th>26</th>\n",
       "      <td>26</td>\n",
       "      <td>27</td>\n",
       "      <td>0</td>\n",
       "      <td>3</td>\n",
       "      <td>Emir, Mr. Farred Chehab</td>\n",
       "      <td>male</td>\n",
       "      <td>29.699118</td>\n",
       "      <td>0</td>\n",
       "      <td>0</td>\n",
       "      <td>2631</td>\n",
       "      <td>7.2250</td>\n",
       "      <td>NaN</td>\n",
       "      <td>C</td>\n",
       "      <td>0.0</td>\n",
       "      <td>1.0</td>\n",
       "    </tr>\n",
       "    <tr>\n",
       "      <th>27</th>\n",
       "      <td>27</td>\n",
       "      <td>28</td>\n",
       "      <td>0</td>\n",
       "      <td>1</td>\n",
       "      <td>Fortune, Mr. Charles Alexander</td>\n",
       "      <td>male</td>\n",
       "      <td>19.000000</td>\n",
       "      <td>3</td>\n",
       "      <td>2</td>\n",
       "      <td>19950</td>\n",
       "      <td>263.0000</td>\n",
       "      <td>C23 C25 C27</td>\n",
       "      <td>S</td>\n",
       "      <td>0.0</td>\n",
       "      <td>1.0</td>\n",
       "    </tr>\n",
       "    <tr>\n",
       "      <th>28</th>\n",
       "      <td>28</td>\n",
       "      <td>29</td>\n",
       "      <td>1</td>\n",
       "      <td>3</td>\n",
       "      <td>O'Dwyer, Miss. Ellen \"Nellie\"</td>\n",
       "      <td>female</td>\n",
       "      <td>29.699118</td>\n",
       "      <td>0</td>\n",
       "      <td>0</td>\n",
       "      <td>330959</td>\n",
       "      <td>7.8792</td>\n",
       "      <td>NaN</td>\n",
       "      <td>Q</td>\n",
       "      <td>1.0</td>\n",
       "      <td>0.0</td>\n",
       "    </tr>\n",
       "    <tr>\n",
       "      <th>29</th>\n",
       "      <td>29</td>\n",
       "      <td>30</td>\n",
       "      <td>0</td>\n",
       "      <td>3</td>\n",
       "      <td>Todoroff, Mr. Lalio</td>\n",
       "      <td>male</td>\n",
       "      <td>29.699118</td>\n",
       "      <td>0</td>\n",
       "      <td>0</td>\n",
       "      <td>349216</td>\n",
       "      <td>7.8958</td>\n",
       "      <td>NaN</td>\n",
       "      <td>S</td>\n",
       "      <td>0.0</td>\n",
       "      <td>1.0</td>\n",
       "    </tr>\n",
       "    <tr>\n",
       "      <th>...</th>\n",
       "      <td>...</td>\n",
       "      <td>...</td>\n",
       "      <td>...</td>\n",
       "      <td>...</td>\n",
       "      <td>...</td>\n",
       "      <td>...</td>\n",
       "      <td>...</td>\n",
       "      <td>...</td>\n",
       "      <td>...</td>\n",
       "      <td>...</td>\n",
       "      <td>...</td>\n",
       "      <td>...</td>\n",
       "      <td>...</td>\n",
       "      <td>...</td>\n",
       "      <td>...</td>\n",
       "    </tr>\n",
       "    <tr>\n",
       "      <th>861</th>\n",
       "      <td>861</td>\n",
       "      <td>862</td>\n",
       "      <td>0</td>\n",
       "      <td>2</td>\n",
       "      <td>Giles, Mr. Frederick Edward</td>\n",
       "      <td>male</td>\n",
       "      <td>21.000000</td>\n",
       "      <td>1</td>\n",
       "      <td>0</td>\n",
       "      <td>28134</td>\n",
       "      <td>11.5000</td>\n",
       "      <td>NaN</td>\n",
       "      <td>S</td>\n",
       "      <td>0.0</td>\n",
       "      <td>1.0</td>\n",
       "    </tr>\n",
       "    <tr>\n",
       "      <th>862</th>\n",
       "      <td>862</td>\n",
       "      <td>863</td>\n",
       "      <td>1</td>\n",
       "      <td>1</td>\n",
       "      <td>Swift, Mrs. Frederick Joel (Margaret Welles Ba...</td>\n",
       "      <td>female</td>\n",
       "      <td>48.000000</td>\n",
       "      <td>0</td>\n",
       "      <td>0</td>\n",
       "      <td>17466</td>\n",
       "      <td>25.9292</td>\n",
       "      <td>D17</td>\n",
       "      <td>S</td>\n",
       "      <td>1.0</td>\n",
       "      <td>0.0</td>\n",
       "    </tr>\n",
       "    <tr>\n",
       "      <th>863</th>\n",
       "      <td>863</td>\n",
       "      <td>864</td>\n",
       "      <td>0</td>\n",
       "      <td>3</td>\n",
       "      <td>Sage, Miss. Dorothy Edith \"Dolly\"</td>\n",
       "      <td>female</td>\n",
       "      <td>29.699118</td>\n",
       "      <td>8</td>\n",
       "      <td>2</td>\n",
       "      <td>CA. 2343</td>\n",
       "      <td>69.5500</td>\n",
       "      <td>NaN</td>\n",
       "      <td>S</td>\n",
       "      <td>1.0</td>\n",
       "      <td>0.0</td>\n",
       "    </tr>\n",
       "    <tr>\n",
       "      <th>864</th>\n",
       "      <td>864</td>\n",
       "      <td>865</td>\n",
       "      <td>0</td>\n",
       "      <td>2</td>\n",
       "      <td>Gill, Mr. John William</td>\n",
       "      <td>male</td>\n",
       "      <td>24.000000</td>\n",
       "      <td>0</td>\n",
       "      <td>0</td>\n",
       "      <td>233866</td>\n",
       "      <td>13.0000</td>\n",
       "      <td>NaN</td>\n",
       "      <td>S</td>\n",
       "      <td>0.0</td>\n",
       "      <td>1.0</td>\n",
       "    </tr>\n",
       "    <tr>\n",
       "      <th>865</th>\n",
       "      <td>865</td>\n",
       "      <td>866</td>\n",
       "      <td>1</td>\n",
       "      <td>2</td>\n",
       "      <td>Bystrom, Mrs. (Karolina)</td>\n",
       "      <td>female</td>\n",
       "      <td>42.000000</td>\n",
       "      <td>0</td>\n",
       "      <td>0</td>\n",
       "      <td>236852</td>\n",
       "      <td>13.0000</td>\n",
       "      <td>NaN</td>\n",
       "      <td>S</td>\n",
       "      <td>1.0</td>\n",
       "      <td>0.0</td>\n",
       "    </tr>\n",
       "    <tr>\n",
       "      <th>866</th>\n",
       "      <td>866</td>\n",
       "      <td>867</td>\n",
       "      <td>1</td>\n",
       "      <td>2</td>\n",
       "      <td>Duran y More, Miss. Asuncion</td>\n",
       "      <td>female</td>\n",
       "      <td>27.000000</td>\n",
       "      <td>1</td>\n",
       "      <td>0</td>\n",
       "      <td>SC/PARIS 2149</td>\n",
       "      <td>13.8583</td>\n",
       "      <td>NaN</td>\n",
       "      <td>C</td>\n",
       "      <td>1.0</td>\n",
       "      <td>0.0</td>\n",
       "    </tr>\n",
       "    <tr>\n",
       "      <th>867</th>\n",
       "      <td>867</td>\n",
       "      <td>868</td>\n",
       "      <td>0</td>\n",
       "      <td>1</td>\n",
       "      <td>Roebling, Mr. Washington Augustus II</td>\n",
       "      <td>male</td>\n",
       "      <td>31.000000</td>\n",
       "      <td>0</td>\n",
       "      <td>0</td>\n",
       "      <td>PC 17590</td>\n",
       "      <td>50.4958</td>\n",
       "      <td>A24</td>\n",
       "      <td>S</td>\n",
       "      <td>0.0</td>\n",
       "      <td>1.0</td>\n",
       "    </tr>\n",
       "    <tr>\n",
       "      <th>868</th>\n",
       "      <td>868</td>\n",
       "      <td>869</td>\n",
       "      <td>0</td>\n",
       "      <td>3</td>\n",
       "      <td>van Melkebeke, Mr. Philemon</td>\n",
       "      <td>male</td>\n",
       "      <td>29.699118</td>\n",
       "      <td>0</td>\n",
       "      <td>0</td>\n",
       "      <td>345777</td>\n",
       "      <td>9.5000</td>\n",
       "      <td>NaN</td>\n",
       "      <td>S</td>\n",
       "      <td>0.0</td>\n",
       "      <td>1.0</td>\n",
       "    </tr>\n",
       "    <tr>\n",
       "      <th>869</th>\n",
       "      <td>869</td>\n",
       "      <td>870</td>\n",
       "      <td>1</td>\n",
       "      <td>3</td>\n",
       "      <td>Johnson, Master. Harold Theodor</td>\n",
       "      <td>male</td>\n",
       "      <td>4.000000</td>\n",
       "      <td>1</td>\n",
       "      <td>1</td>\n",
       "      <td>347742</td>\n",
       "      <td>11.1333</td>\n",
       "      <td>NaN</td>\n",
       "      <td>S</td>\n",
       "      <td>0.0</td>\n",
       "      <td>1.0</td>\n",
       "    </tr>\n",
       "    <tr>\n",
       "      <th>870</th>\n",
       "      <td>870</td>\n",
       "      <td>871</td>\n",
       "      <td>0</td>\n",
       "      <td>3</td>\n",
       "      <td>Balkic, Mr. Cerin</td>\n",
       "      <td>male</td>\n",
       "      <td>26.000000</td>\n",
       "      <td>0</td>\n",
       "      <td>0</td>\n",
       "      <td>349248</td>\n",
       "      <td>7.8958</td>\n",
       "      <td>NaN</td>\n",
       "      <td>S</td>\n",
       "      <td>0.0</td>\n",
       "      <td>1.0</td>\n",
       "    </tr>\n",
       "    <tr>\n",
       "      <th>871</th>\n",
       "      <td>871</td>\n",
       "      <td>872</td>\n",
       "      <td>1</td>\n",
       "      <td>1</td>\n",
       "      <td>Beckwith, Mrs. Richard Leonard (Sallie Monypeny)</td>\n",
       "      <td>female</td>\n",
       "      <td>47.000000</td>\n",
       "      <td>1</td>\n",
       "      <td>1</td>\n",
       "      <td>11751</td>\n",
       "      <td>52.5542</td>\n",
       "      <td>D35</td>\n",
       "      <td>S</td>\n",
       "      <td>1.0</td>\n",
       "      <td>0.0</td>\n",
       "    </tr>\n",
       "    <tr>\n",
       "      <th>872</th>\n",
       "      <td>872</td>\n",
       "      <td>873</td>\n",
       "      <td>0</td>\n",
       "      <td>1</td>\n",
       "      <td>Carlsson, Mr. Frans Olof</td>\n",
       "      <td>male</td>\n",
       "      <td>33.000000</td>\n",
       "      <td>0</td>\n",
       "      <td>0</td>\n",
       "      <td>695</td>\n",
       "      <td>5.0000</td>\n",
       "      <td>B51 B53 B55</td>\n",
       "      <td>S</td>\n",
       "      <td>0.0</td>\n",
       "      <td>1.0</td>\n",
       "    </tr>\n",
       "    <tr>\n",
       "      <th>873</th>\n",
       "      <td>873</td>\n",
       "      <td>874</td>\n",
       "      <td>0</td>\n",
       "      <td>3</td>\n",
       "      <td>Vander Cruyssen, Mr. Victor</td>\n",
       "      <td>male</td>\n",
       "      <td>47.000000</td>\n",
       "      <td>0</td>\n",
       "      <td>0</td>\n",
       "      <td>345765</td>\n",
       "      <td>9.0000</td>\n",
       "      <td>NaN</td>\n",
       "      <td>S</td>\n",
       "      <td>0.0</td>\n",
       "      <td>1.0</td>\n",
       "    </tr>\n",
       "    <tr>\n",
       "      <th>874</th>\n",
       "      <td>874</td>\n",
       "      <td>875</td>\n",
       "      <td>1</td>\n",
       "      <td>2</td>\n",
       "      <td>Abelson, Mrs. Samuel (Hannah Wizosky)</td>\n",
       "      <td>female</td>\n",
       "      <td>28.000000</td>\n",
       "      <td>1</td>\n",
       "      <td>0</td>\n",
       "      <td>P/PP 3381</td>\n",
       "      <td>24.0000</td>\n",
       "      <td>NaN</td>\n",
       "      <td>C</td>\n",
       "      <td>1.0</td>\n",
       "      <td>0.0</td>\n",
       "    </tr>\n",
       "    <tr>\n",
       "      <th>875</th>\n",
       "      <td>875</td>\n",
       "      <td>876</td>\n",
       "      <td>1</td>\n",
       "      <td>3</td>\n",
       "      <td>Najib, Miss. Adele Kiamie \"Jane\"</td>\n",
       "      <td>female</td>\n",
       "      <td>15.000000</td>\n",
       "      <td>0</td>\n",
       "      <td>0</td>\n",
       "      <td>2667</td>\n",
       "      <td>7.2250</td>\n",
       "      <td>NaN</td>\n",
       "      <td>C</td>\n",
       "      <td>1.0</td>\n",
       "      <td>0.0</td>\n",
       "    </tr>\n",
       "    <tr>\n",
       "      <th>876</th>\n",
       "      <td>876</td>\n",
       "      <td>877</td>\n",
       "      <td>0</td>\n",
       "      <td>3</td>\n",
       "      <td>Gustafsson, Mr. Alfred Ossian</td>\n",
       "      <td>male</td>\n",
       "      <td>20.000000</td>\n",
       "      <td>0</td>\n",
       "      <td>0</td>\n",
       "      <td>7534</td>\n",
       "      <td>9.8458</td>\n",
       "      <td>NaN</td>\n",
       "      <td>S</td>\n",
       "      <td>0.0</td>\n",
       "      <td>1.0</td>\n",
       "    </tr>\n",
       "    <tr>\n",
       "      <th>877</th>\n",
       "      <td>877</td>\n",
       "      <td>878</td>\n",
       "      <td>0</td>\n",
       "      <td>3</td>\n",
       "      <td>Petroff, Mr. Nedelio</td>\n",
       "      <td>male</td>\n",
       "      <td>19.000000</td>\n",
       "      <td>0</td>\n",
       "      <td>0</td>\n",
       "      <td>349212</td>\n",
       "      <td>7.8958</td>\n",
       "      <td>NaN</td>\n",
       "      <td>S</td>\n",
       "      <td>0.0</td>\n",
       "      <td>1.0</td>\n",
       "    </tr>\n",
       "    <tr>\n",
       "      <th>878</th>\n",
       "      <td>878</td>\n",
       "      <td>879</td>\n",
       "      <td>0</td>\n",
       "      <td>3</td>\n",
       "      <td>Laleff, Mr. Kristo</td>\n",
       "      <td>male</td>\n",
       "      <td>29.699118</td>\n",
       "      <td>0</td>\n",
       "      <td>0</td>\n",
       "      <td>349217</td>\n",
       "      <td>7.8958</td>\n",
       "      <td>NaN</td>\n",
       "      <td>S</td>\n",
       "      <td>0.0</td>\n",
       "      <td>1.0</td>\n",
       "    </tr>\n",
       "    <tr>\n",
       "      <th>879</th>\n",
       "      <td>879</td>\n",
       "      <td>880</td>\n",
       "      <td>1</td>\n",
       "      <td>1</td>\n",
       "      <td>Potter, Mrs. Thomas Jr (Lily Alexenia Wilson)</td>\n",
       "      <td>female</td>\n",
       "      <td>56.000000</td>\n",
       "      <td>0</td>\n",
       "      <td>1</td>\n",
       "      <td>11767</td>\n",
       "      <td>83.1583</td>\n",
       "      <td>C50</td>\n",
       "      <td>C</td>\n",
       "      <td>1.0</td>\n",
       "      <td>0.0</td>\n",
       "    </tr>\n",
       "    <tr>\n",
       "      <th>880</th>\n",
       "      <td>880</td>\n",
       "      <td>881</td>\n",
       "      <td>1</td>\n",
       "      <td>2</td>\n",
       "      <td>Shelley, Mrs. William (Imanita Parrish Hall)</td>\n",
       "      <td>female</td>\n",
       "      <td>25.000000</td>\n",
       "      <td>0</td>\n",
       "      <td>1</td>\n",
       "      <td>230433</td>\n",
       "      <td>26.0000</td>\n",
       "      <td>NaN</td>\n",
       "      <td>S</td>\n",
       "      <td>1.0</td>\n",
       "      <td>0.0</td>\n",
       "    </tr>\n",
       "    <tr>\n",
       "      <th>881</th>\n",
       "      <td>881</td>\n",
       "      <td>882</td>\n",
       "      <td>0</td>\n",
       "      <td>3</td>\n",
       "      <td>Markun, Mr. Johann</td>\n",
       "      <td>male</td>\n",
       "      <td>33.000000</td>\n",
       "      <td>0</td>\n",
       "      <td>0</td>\n",
       "      <td>349257</td>\n",
       "      <td>7.8958</td>\n",
       "      <td>NaN</td>\n",
       "      <td>S</td>\n",
       "      <td>0.0</td>\n",
       "      <td>1.0</td>\n",
       "    </tr>\n",
       "    <tr>\n",
       "      <th>882</th>\n",
       "      <td>882</td>\n",
       "      <td>883</td>\n",
       "      <td>0</td>\n",
       "      <td>3</td>\n",
       "      <td>Dahlberg, Miss. Gerda Ulrika</td>\n",
       "      <td>female</td>\n",
       "      <td>22.000000</td>\n",
       "      <td>0</td>\n",
       "      <td>0</td>\n",
       "      <td>7552</td>\n",
       "      <td>10.5167</td>\n",
       "      <td>NaN</td>\n",
       "      <td>S</td>\n",
       "      <td>1.0</td>\n",
       "      <td>0.0</td>\n",
       "    </tr>\n",
       "    <tr>\n",
       "      <th>883</th>\n",
       "      <td>883</td>\n",
       "      <td>884</td>\n",
       "      <td>0</td>\n",
       "      <td>2</td>\n",
       "      <td>Banfield, Mr. Frederick James</td>\n",
       "      <td>male</td>\n",
       "      <td>28.000000</td>\n",
       "      <td>0</td>\n",
       "      <td>0</td>\n",
       "      <td>C.A./SOTON 34068</td>\n",
       "      <td>10.5000</td>\n",
       "      <td>NaN</td>\n",
       "      <td>S</td>\n",
       "      <td>0.0</td>\n",
       "      <td>1.0</td>\n",
       "    </tr>\n",
       "    <tr>\n",
       "      <th>884</th>\n",
       "      <td>884</td>\n",
       "      <td>885</td>\n",
       "      <td>0</td>\n",
       "      <td>3</td>\n",
       "      <td>Sutehall, Mr. Henry Jr</td>\n",
       "      <td>male</td>\n",
       "      <td>25.000000</td>\n",
       "      <td>0</td>\n",
       "      <td>0</td>\n",
       "      <td>SOTON/OQ 392076</td>\n",
       "      <td>7.0500</td>\n",
       "      <td>NaN</td>\n",
       "      <td>S</td>\n",
       "      <td>0.0</td>\n",
       "      <td>1.0</td>\n",
       "    </tr>\n",
       "    <tr>\n",
       "      <th>885</th>\n",
       "      <td>885</td>\n",
       "      <td>886</td>\n",
       "      <td>0</td>\n",
       "      <td>3</td>\n",
       "      <td>Rice, Mrs. William (Margaret Norton)</td>\n",
       "      <td>female</td>\n",
       "      <td>39.000000</td>\n",
       "      <td>0</td>\n",
       "      <td>5</td>\n",
       "      <td>382652</td>\n",
       "      <td>29.1250</td>\n",
       "      <td>NaN</td>\n",
       "      <td>Q</td>\n",
       "      <td>1.0</td>\n",
       "      <td>0.0</td>\n",
       "    </tr>\n",
       "    <tr>\n",
       "      <th>886</th>\n",
       "      <td>886</td>\n",
       "      <td>887</td>\n",
       "      <td>0</td>\n",
       "      <td>2</td>\n",
       "      <td>Montvila, Rev. Juozas</td>\n",
       "      <td>male</td>\n",
       "      <td>27.000000</td>\n",
       "      <td>0</td>\n",
       "      <td>0</td>\n",
       "      <td>211536</td>\n",
       "      <td>13.0000</td>\n",
       "      <td>NaN</td>\n",
       "      <td>S</td>\n",
       "      <td>0.0</td>\n",
       "      <td>1.0</td>\n",
       "    </tr>\n",
       "    <tr>\n",
       "      <th>887</th>\n",
       "      <td>887</td>\n",
       "      <td>888</td>\n",
       "      <td>1</td>\n",
       "      <td>1</td>\n",
       "      <td>Graham, Miss. Margaret Edith</td>\n",
       "      <td>female</td>\n",
       "      <td>19.000000</td>\n",
       "      <td>0</td>\n",
       "      <td>0</td>\n",
       "      <td>112053</td>\n",
       "      <td>30.0000</td>\n",
       "      <td>B42</td>\n",
       "      <td>S</td>\n",
       "      <td>1.0</td>\n",
       "      <td>0.0</td>\n",
       "    </tr>\n",
       "    <tr>\n",
       "      <th>888</th>\n",
       "      <td>888</td>\n",
       "      <td>889</td>\n",
       "      <td>0</td>\n",
       "      <td>3</td>\n",
       "      <td>Johnston, Miss. Catherine Helen \"Carrie\"</td>\n",
       "      <td>female</td>\n",
       "      <td>29.699118</td>\n",
       "      <td>1</td>\n",
       "      <td>2</td>\n",
       "      <td>W./C. 6607</td>\n",
       "      <td>23.4500</td>\n",
       "      <td>NaN</td>\n",
       "      <td>S</td>\n",
       "      <td>1.0</td>\n",
       "      <td>0.0</td>\n",
       "    </tr>\n",
       "    <tr>\n",
       "      <th>889</th>\n",
       "      <td>889</td>\n",
       "      <td>890</td>\n",
       "      <td>1</td>\n",
       "      <td>1</td>\n",
       "      <td>Behr, Mr. Karl Howell</td>\n",
       "      <td>male</td>\n",
       "      <td>26.000000</td>\n",
       "      <td>0</td>\n",
       "      <td>0</td>\n",
       "      <td>111369</td>\n",
       "      <td>30.0000</td>\n",
       "      <td>C148</td>\n",
       "      <td>C</td>\n",
       "      <td>0.0</td>\n",
       "      <td>1.0</td>\n",
       "    </tr>\n",
       "    <tr>\n",
       "      <th>890</th>\n",
       "      <td>890</td>\n",
       "      <td>891</td>\n",
       "      <td>0</td>\n",
       "      <td>3</td>\n",
       "      <td>Dooley, Mr. Patrick</td>\n",
       "      <td>male</td>\n",
       "      <td>32.000000</td>\n",
       "      <td>0</td>\n",
       "      <td>0</td>\n",
       "      <td>370376</td>\n",
       "      <td>7.7500</td>\n",
       "      <td>NaN</td>\n",
       "      <td>Q</td>\n",
       "      <td>0.0</td>\n",
       "      <td>1.0</td>\n",
       "    </tr>\n",
       "  </tbody>\n",
       "</table>\n",
       "<p>891 rows × 15 columns</p>\n",
       "</div>"
      ],
      "text/plain": [
       "     index  PassengerId  Survived  Pclass  \\\n",
       "0        0            1         0       3   \n",
       "1        1            2         1       1   \n",
       "2        2            3         1       3   \n",
       "3        3            4         1       1   \n",
       "4        4            5         0       3   \n",
       "5        5            6         0       3   \n",
       "6        6            7         0       1   \n",
       "7        7            8         0       3   \n",
       "8        8            9         1       3   \n",
       "9        9           10         1       2   \n",
       "10      10           11         1       3   \n",
       "11      11           12         1       1   \n",
       "12      12           13         0       3   \n",
       "13      13           14         0       3   \n",
       "14      14           15         0       3   \n",
       "15      15           16         1       2   \n",
       "16      16           17         0       3   \n",
       "17      17           18         1       2   \n",
       "18      18           19         0       3   \n",
       "19      19           20         1       3   \n",
       "20      20           21         0       2   \n",
       "21      21           22         1       2   \n",
       "22      22           23         1       3   \n",
       "23      23           24         1       1   \n",
       "24      24           25         0       3   \n",
       "25      25           26         1       3   \n",
       "26      26           27         0       3   \n",
       "27      27           28         0       1   \n",
       "28      28           29         1       3   \n",
       "29      29           30         0       3   \n",
       "..     ...          ...       ...     ...   \n",
       "861    861          862         0       2   \n",
       "862    862          863         1       1   \n",
       "863    863          864         0       3   \n",
       "864    864          865         0       2   \n",
       "865    865          866         1       2   \n",
       "866    866          867         1       2   \n",
       "867    867          868         0       1   \n",
       "868    868          869         0       3   \n",
       "869    869          870         1       3   \n",
       "870    870          871         0       3   \n",
       "871    871          872         1       1   \n",
       "872    872          873         0       1   \n",
       "873    873          874         0       3   \n",
       "874    874          875         1       2   \n",
       "875    875          876         1       3   \n",
       "876    876          877         0       3   \n",
       "877    877          878         0       3   \n",
       "878    878          879         0       3   \n",
       "879    879          880         1       1   \n",
       "880    880          881         1       2   \n",
       "881    881          882         0       3   \n",
       "882    882          883         0       3   \n",
       "883    883          884         0       2   \n",
       "884    884          885         0       3   \n",
       "885    885          886         0       3   \n",
       "886    886          887         0       2   \n",
       "887    887          888         1       1   \n",
       "888    888          889         0       3   \n",
       "889    889          890         1       1   \n",
       "890    890          891         0       3   \n",
       "\n",
       "                                                  Name     Sex        Age  \\\n",
       "0                              Braund, Mr. Owen Harris    male  22.000000   \n",
       "1    Cumings, Mrs. John Bradley (Florence Briggs Th...  female  38.000000   \n",
       "2                               Heikkinen, Miss. Laina  female  26.000000   \n",
       "3         Futrelle, Mrs. Jacques Heath (Lily May Peel)  female  35.000000   \n",
       "4                             Allen, Mr. William Henry    male  35.000000   \n",
       "5                                     Moran, Mr. James    male  29.699118   \n",
       "6                              McCarthy, Mr. Timothy J    male  54.000000   \n",
       "7                       Palsson, Master. Gosta Leonard    male   2.000000   \n",
       "8    Johnson, Mrs. Oscar W (Elisabeth Vilhelmina Berg)  female  27.000000   \n",
       "9                  Nasser, Mrs. Nicholas (Adele Achem)  female  14.000000   \n",
       "10                     Sandstrom, Miss. Marguerite Rut  female   4.000000   \n",
       "11                            Bonnell, Miss. Elizabeth  female  58.000000   \n",
       "12                      Saundercock, Mr. William Henry    male  20.000000   \n",
       "13                         Andersson, Mr. Anders Johan    male  39.000000   \n",
       "14                Vestrom, Miss. Hulda Amanda Adolfina  female  14.000000   \n",
       "15                    Hewlett, Mrs. (Mary D Kingcome)   female  55.000000   \n",
       "16                                Rice, Master. Eugene    male   2.000000   \n",
       "17                        Williams, Mr. Charles Eugene    male  29.699118   \n",
       "18   Vander Planke, Mrs. Julius (Emelia Maria Vande...  female  31.000000   \n",
       "19                             Masselmani, Mrs. Fatima  female  29.699118   \n",
       "20                                Fynney, Mr. Joseph J    male  35.000000   \n",
       "21                               Beesley, Mr. Lawrence    male  34.000000   \n",
       "22                         McGowan, Miss. Anna \"Annie\"  female  15.000000   \n",
       "23                        Sloper, Mr. William Thompson    male  28.000000   \n",
       "24                       Palsson, Miss. Torborg Danira  female   8.000000   \n",
       "25   Asplund, Mrs. Carl Oscar (Selma Augusta Emilia...  female  38.000000   \n",
       "26                             Emir, Mr. Farred Chehab    male  29.699118   \n",
       "27                      Fortune, Mr. Charles Alexander    male  19.000000   \n",
       "28                       O'Dwyer, Miss. Ellen \"Nellie\"  female  29.699118   \n",
       "29                                 Todoroff, Mr. Lalio    male  29.699118   \n",
       "..                                                 ...     ...        ...   \n",
       "861                        Giles, Mr. Frederick Edward    male  21.000000   \n",
       "862  Swift, Mrs. Frederick Joel (Margaret Welles Ba...  female  48.000000   \n",
       "863                  Sage, Miss. Dorothy Edith \"Dolly\"  female  29.699118   \n",
       "864                             Gill, Mr. John William    male  24.000000   \n",
       "865                           Bystrom, Mrs. (Karolina)  female  42.000000   \n",
       "866                       Duran y More, Miss. Asuncion  female  27.000000   \n",
       "867               Roebling, Mr. Washington Augustus II    male  31.000000   \n",
       "868                        van Melkebeke, Mr. Philemon    male  29.699118   \n",
       "869                    Johnson, Master. Harold Theodor    male   4.000000   \n",
       "870                                  Balkic, Mr. Cerin    male  26.000000   \n",
       "871   Beckwith, Mrs. Richard Leonard (Sallie Monypeny)  female  47.000000   \n",
       "872                           Carlsson, Mr. Frans Olof    male  33.000000   \n",
       "873                        Vander Cruyssen, Mr. Victor    male  47.000000   \n",
       "874              Abelson, Mrs. Samuel (Hannah Wizosky)  female  28.000000   \n",
       "875                   Najib, Miss. Adele Kiamie \"Jane\"  female  15.000000   \n",
       "876                      Gustafsson, Mr. Alfred Ossian    male  20.000000   \n",
       "877                               Petroff, Mr. Nedelio    male  19.000000   \n",
       "878                                 Laleff, Mr. Kristo    male  29.699118   \n",
       "879      Potter, Mrs. Thomas Jr (Lily Alexenia Wilson)  female  56.000000   \n",
       "880       Shelley, Mrs. William (Imanita Parrish Hall)  female  25.000000   \n",
       "881                                 Markun, Mr. Johann    male  33.000000   \n",
       "882                       Dahlberg, Miss. Gerda Ulrika  female  22.000000   \n",
       "883                      Banfield, Mr. Frederick James    male  28.000000   \n",
       "884                             Sutehall, Mr. Henry Jr    male  25.000000   \n",
       "885               Rice, Mrs. William (Margaret Norton)  female  39.000000   \n",
       "886                              Montvila, Rev. Juozas    male  27.000000   \n",
       "887                       Graham, Miss. Margaret Edith  female  19.000000   \n",
       "888           Johnston, Miss. Catherine Helen \"Carrie\"  female  29.699118   \n",
       "889                              Behr, Mr. Karl Howell    male  26.000000   \n",
       "890                                Dooley, Mr. Patrick    male  32.000000   \n",
       "\n",
       "     SibSp  Parch            Ticket      Fare        Cabin Embarked  Male  \\\n",
       "0        1      0         A/5 21171    7.2500          NaN        S   0.0   \n",
       "1        1      0          PC 17599   71.2833          C85        C   1.0   \n",
       "2        0      0  STON/O2. 3101282    7.9250          NaN        S   1.0   \n",
       "3        1      0            113803   53.1000         C123        S   1.0   \n",
       "4        0      0            373450    8.0500          NaN        S   0.0   \n",
       "5        0      0            330877    8.4583          NaN        Q   0.0   \n",
       "6        0      0             17463   51.8625          E46        S   0.0   \n",
       "7        3      1            349909   21.0750          NaN        S   0.0   \n",
       "8        0      2            347742   11.1333          NaN        S   1.0   \n",
       "9        1      0            237736   30.0708          NaN        C   1.0   \n",
       "10       1      1           PP 9549   16.7000           G6        S   1.0   \n",
       "11       0      0            113783   26.5500         C103        S   1.0   \n",
       "12       0      0         A/5. 2151    8.0500          NaN        S   0.0   \n",
       "13       1      5            347082   31.2750          NaN        S   0.0   \n",
       "14       0      0            350406    7.8542          NaN        S   1.0   \n",
       "15       0      0            248706   16.0000          NaN        S   1.0   \n",
       "16       4      1            382652   29.1250          NaN        Q   0.0   \n",
       "17       0      0            244373   13.0000          NaN        S   0.0   \n",
       "18       1      0            345763   18.0000          NaN        S   1.0   \n",
       "19       0      0              2649    7.2250          NaN        C   1.0   \n",
       "20       0      0            239865   26.0000          NaN        S   0.0   \n",
       "21       0      0            248698   13.0000          D56        S   0.0   \n",
       "22       0      0            330923    8.0292          NaN        Q   1.0   \n",
       "23       0      0            113788   35.5000           A6        S   0.0   \n",
       "24       3      1            349909   21.0750          NaN        S   1.0   \n",
       "25       1      5            347077   31.3875          NaN        S   1.0   \n",
       "26       0      0              2631    7.2250          NaN        C   0.0   \n",
       "27       3      2             19950  263.0000  C23 C25 C27        S   0.0   \n",
       "28       0      0            330959    7.8792          NaN        Q   1.0   \n",
       "29       0      0            349216    7.8958          NaN        S   0.0   \n",
       "..     ...    ...               ...       ...          ...      ...   ...   \n",
       "861      1      0             28134   11.5000          NaN        S   0.0   \n",
       "862      0      0             17466   25.9292          D17        S   1.0   \n",
       "863      8      2          CA. 2343   69.5500          NaN        S   1.0   \n",
       "864      0      0            233866   13.0000          NaN        S   0.0   \n",
       "865      0      0            236852   13.0000          NaN        S   1.0   \n",
       "866      1      0     SC/PARIS 2149   13.8583          NaN        C   1.0   \n",
       "867      0      0          PC 17590   50.4958          A24        S   0.0   \n",
       "868      0      0            345777    9.5000          NaN        S   0.0   \n",
       "869      1      1            347742   11.1333          NaN        S   0.0   \n",
       "870      0      0            349248    7.8958          NaN        S   0.0   \n",
       "871      1      1             11751   52.5542          D35        S   1.0   \n",
       "872      0      0               695    5.0000  B51 B53 B55        S   0.0   \n",
       "873      0      0            345765    9.0000          NaN        S   0.0   \n",
       "874      1      0         P/PP 3381   24.0000          NaN        C   1.0   \n",
       "875      0      0              2667    7.2250          NaN        C   1.0   \n",
       "876      0      0              7534    9.8458          NaN        S   0.0   \n",
       "877      0      0            349212    7.8958          NaN        S   0.0   \n",
       "878      0      0            349217    7.8958          NaN        S   0.0   \n",
       "879      0      1             11767   83.1583          C50        C   1.0   \n",
       "880      0      1            230433   26.0000          NaN        S   1.0   \n",
       "881      0      0            349257    7.8958          NaN        S   0.0   \n",
       "882      0      0              7552   10.5167          NaN        S   1.0   \n",
       "883      0      0  C.A./SOTON 34068   10.5000          NaN        S   0.0   \n",
       "884      0      0   SOTON/OQ 392076    7.0500          NaN        S   0.0   \n",
       "885      0      5            382652   29.1250          NaN        Q   1.0   \n",
       "886      0      0            211536   13.0000          NaN        S   0.0   \n",
       "887      0      0            112053   30.0000          B42        S   1.0   \n",
       "888      1      2        W./C. 6607   23.4500          NaN        S   1.0   \n",
       "889      0      0            111369   30.0000         C148        C   0.0   \n",
       "890      0      0            370376    7.7500          NaN        Q   0.0   \n",
       "\n",
       "     Female  \n",
       "0       1.0  \n",
       "1       0.0  \n",
       "2       0.0  \n",
       "3       0.0  \n",
       "4       1.0  \n",
       "5       1.0  \n",
       "6       1.0  \n",
       "7       1.0  \n",
       "8       0.0  \n",
       "9       0.0  \n",
       "10      0.0  \n",
       "11      0.0  \n",
       "12      1.0  \n",
       "13      1.0  \n",
       "14      0.0  \n",
       "15      0.0  \n",
       "16      1.0  \n",
       "17      1.0  \n",
       "18      0.0  \n",
       "19      0.0  \n",
       "20      1.0  \n",
       "21      1.0  \n",
       "22      0.0  \n",
       "23      1.0  \n",
       "24      0.0  \n",
       "25      0.0  \n",
       "26      1.0  \n",
       "27      1.0  \n",
       "28      0.0  \n",
       "29      1.0  \n",
       "..      ...  \n",
       "861     1.0  \n",
       "862     0.0  \n",
       "863     0.0  \n",
       "864     1.0  \n",
       "865     0.0  \n",
       "866     0.0  \n",
       "867     1.0  \n",
       "868     1.0  \n",
       "869     1.0  \n",
       "870     1.0  \n",
       "871     0.0  \n",
       "872     1.0  \n",
       "873     1.0  \n",
       "874     0.0  \n",
       "875     0.0  \n",
       "876     1.0  \n",
       "877     1.0  \n",
       "878     1.0  \n",
       "879     0.0  \n",
       "880     0.0  \n",
       "881     1.0  \n",
       "882     0.0  \n",
       "883     1.0  \n",
       "884     1.0  \n",
       "885     0.0  \n",
       "886     1.0  \n",
       "887     0.0  \n",
       "888     0.0  \n",
       "889     1.0  \n",
       "890     1.0  \n",
       "\n",
       "[891 rows x 15 columns]"
      ]
     },
     "execution_count": 13,
     "metadata": {},
     "output_type": "execute_result"
    }
   ],
   "source": [
    "titanic"
   ]
  },
  {
   "cell_type": "code",
   "execution_count": 19,
   "metadata": {
    "collapsed": false
   },
   "outputs": [],
   "source": [
    "from sklearn import datasets\n",
    "from sklearn.cross_validation import train_test_split\n",
    "\n",
    "X_train, X_test, y_train, y_test = train_test_split(X, y, test_size=0.33, random_state=42)\n",
    "\n",
    "# # Split 70/30 into initial data and new points to classify\n",
    "# ttrain = pd.DataFrame({'feature1':X_train[:,0],'feature2':X_train[:,1],'class':y_train})\n",
    "# ttest = pd.DataFrame({'feature1':X_test[:,0],'feature2':X_test[:,1],'class':y_test})"
   ]
  },
  {
   "cell_type": "code",
   "execution_count": null,
   "metadata": {
    "collapsed": false,
    "scrolled": true
   },
   "outputs": [],
   "source": [
    "# from sklearn import svm\n",
    "# from sklearn.datasets import samples_generator\n",
    "# from sklearn.feature_selection import SelectKBest\n",
    "# from sklearn.feature_selection import f_regression\n",
    "# from sklearn.pipeline import Pipeline\n",
    "\n",
    "# from sklearn import preprocessing\n",
    "# le = preprocessing.LabelEncoder()\n",
    "# le.fit_transform(sexdummy)\n",
    "# titanic['Sex'] = le.fit_transform(sexdummy)"
   ]
  },
  {
   "cell_type": "markdown",
   "metadata": {},
   "source": [
    "## Part 4: Logistic Regression and Model Validation"
   ]
  },
  {
   "cell_type": "markdown",
   "metadata": {},
   "source": [
    "#### 1. Define the variables that we will use in our classification analysis"
   ]
  },
  {
   "cell_type": "code",
   "execution_count": 15,
   "metadata": {
    "collapsed": true
   },
   "outputs": [],
   "source": [
    "columns = ['Male',\n",
    "           'Female',\n",
    "           'Age',\n",
    "           'Pclass',\n",
    "           'SibSp',\n",
    "           'Parch',\n",
    "           'Fare']\n",
    "\n",
    "y = titanic['Survived']"
   ]
  },
  {
   "cell_type": "code",
   "execution_count": 16,
   "metadata": {
    "collapsed": false
   },
   "outputs": [
    {
     "data": {
      "text/plain": [
       "0    0.616162\n",
       "1    0.383838\n",
       "Name: Survived, dtype: float64"
      ]
     },
     "execution_count": 16,
     "metadata": {},
     "output_type": "execute_result"
    }
   ],
   "source": [
    "#Baseline\n",
    "y.value_counts() / len(y)"
   ]
  },
  {
   "cell_type": "markdown",
   "metadata": {},
   "source": [
    "#### 2. Transform \"Y\" into a 1-Dimensional Array for SciKit-Learn"
   ]
  },
  {
   "cell_type": "code",
   "execution_count": 17,
   "metadata": {
    "collapsed": false
   },
   "outputs": [],
   "source": [
    "from sklearn.preprocessing import LabelEncoder\n",
    "X = titanic[columns].values\n",
    "\n",
    "le = LabelEncoder()\n",
    "y = le.fit_transform(y)\n"
   ]
  },
  {
   "cell_type": "code",
   "execution_count": 18,
   "metadata": {
    "collapsed": false
   },
   "outputs": [
    {
     "data": {
      "text/plain": [
       "(891, 7)"
      ]
     },
     "execution_count": 18,
     "metadata": {},
     "output_type": "execute_result"
    }
   ],
   "source": [
    "X.shape"
   ]
  },
  {
   "cell_type": "markdown",
   "metadata": {},
   "source": [
    "#### 3. Conduct the logistic regression"
   ]
  },
  {
   "cell_type": "code",
   "execution_count": 20,
   "metadata": {
    "collapsed": false
   },
   "outputs": [
    {
     "name": "stdout",
     "output_type": "stream",
     "text": [
      "Scaled/Standardized Improved Test Accuracy: 0.8169\n"
     ]
    }
   ],
   "source": [
    "import numpy as np\n",
    "import pandas as pd\n",
    "\n",
    "from sklearn.pipeline import Pipeline\n",
    "from sklearn.preprocessing import Imputer\n",
    "from sklearn.cross_validation import cross_val_score\n",
    "\n",
    "from sklearn.linear_model import LogisticRegression\n",
    "\n",
    "from sklearn.preprocessing import StandardScaler\n",
    "from sklearn.linear_model import LogisticRegression\n",
    "from sklearn.pipeline import Pipeline\n",
    "\n",
    "imp = Imputer(missing_values=np.nan,strategy=\"mean\",axis=0)\n",
    "\n",
    "pipe_lr = Pipeline([('imputer', imp), ('scl', StandardScaler()), ('clf', LogisticRegression(random_state=1))])\n",
    "pipe_lr.fit(X_train, y_train)\n",
    "print('Scaled/Standardized Improved Test Accuracy: %.4f' % pipe_lr.score(X_test, y_test))"
   ]
  },
  {
   "cell_type": "markdown",
   "metadata": {},
   "source": [
    "#### 4. Examine the coefficients"
   ]
  },
  {
   "cell_type": "code",
   "execution_count": 21,
   "metadata": {
    "collapsed": false
   },
   "outputs": [
    {
     "data": {
      "text/plain": [
       "(array([[ 0.61460664, -0.61460664, -0.38405755, -0.71610049, -0.36159455,\n",
       "         -0.11202797,  0.20194244]]),\n",
       " ['Male', 'Female', 'Age', 'Pclass', 'SibSp', 'Parch', 'Fare'])"
      ]
     },
     "execution_count": 21,
     "metadata": {},
     "output_type": "execute_result"
    }
   ],
   "source": [
    "pipe_lr.steps[-1][1].coef_, columns"
   ]
  },
  {
   "cell_type": "markdown",
   "metadata": {},
   "source": [
    "#### 10. Cross validate on 10 folds"
   ]
  },
  {
   "cell_type": "code",
   "execution_count": 22,
   "metadata": {
    "collapsed": false
   },
   "outputs": [
    {
     "name": "stdout",
     "output_type": "stream",
     "text": [
      "('INITIAL MODEL ACCURACY (NO Cross Validation: ', 0.81016949152542372)\n",
      "('CV 10-FOLD Scores: ', array([ 0.86666667,  0.83333333,  0.83333333,  0.76666667,  0.7       ,\n",
      "        0.82758621,  0.72413793,  0.86206897,  0.86206897,  0.79310345]))\n",
      "('CV 10-FOLD Mean Accuracy', 0.80689655172413788)\n",
      "('CV 10-FOLD Standard Deviation of Accuracy', 0.056187971333777162)\n"
     ]
    }
   ],
   "source": [
    "from sklearn.linear_model import LogisticRegression\n",
    "# l2 - NON-SPARSE REGULARIZATION INVOKED - INSTANTIATE LOGISTIC REGRESSION WITH C=1 PARAMETER\n",
    "lr = LogisticRegression(penalty = 'l2', C=1)\n",
    "lr.fit(X_train, y_train)\n",
    "print('INITIAL MODEL ACCURACY (NO Cross Validation: ', lr.score(X_test, y_test))\n",
    "\n",
    "# WITH 5-FOLD CROSS VALIDATION (WE ARE TOLD TO USE CROSS_VAL_SCORE)\n",
    "from sklearn import cross_validation\n",
    "from sklearn.cross_validation import cross_val_score\n",
    "\n",
    "# CV VIA REUSED INSTANTIATED LR MODEL ABOVE \n",
    "scores = cross_validation.cross_val_score(lr, X_test, y_test,scoring='accuracy', cv=10)\n",
    "print('CV 10-FOLD Scores: ', scores)\n",
    "print('CV 10-FOLD Mean Accuracy', scores.mean() )\n",
    "print('CV 10-FOLD Standard Deviation of Accuracy', scores.std() )"
   ]
  },
  {
   "cell_type": "markdown",
   "metadata": {},
   "source": [
    "#### 11. Check the Classification Report"
   ]
  },
  {
   "cell_type": "code",
   "execution_count": 25,
   "metadata": {
    "collapsed": false
   },
   "outputs": [
    {
     "name": "stdout",
     "output_type": "stream",
     "text": [
      "             precision    recall  f1-score   support\n",
      "\n",
      "          0       0.82      0.89      0.85       175\n",
      "          1       0.82      0.71      0.76       120\n",
      "\n",
      "avg / total       0.82      0.82      0.81       295\n",
      "\n"
     ]
    }
   ],
   "source": [
    "from sklearn.metrics import classification_report\n",
    "\n",
    "print(classification_report(y_test, predictions))"
   ]
  },
  {
   "cell_type": "markdown",
   "metadata": {},
   "source": [
    "#### 12. What do the classification metrics tell us?"
   ]
  },
  {
   "cell_type": "markdown",
   "metadata": {},
   "source": [
    "- Precision is true positives over total positives. This measures whether we found a negative as a positive. It's about 83% accurate. \n",
    "\n",
    "- Recall is the true positives over true positives and false negatives. This looks at whether we missed any positives and labeled them negative. It's about 83% accurate. \n",
    "\n",
    "- The f1score takes into account the precision and recall and wants to be as close to 1 as possible. 1 is the best, 0 is the worst. Our f1-score is .83.\n",
    "\n",
    "- Support is the total number of occurances of each."
   ]
  },
  {
   "cell_type": "markdown",
   "metadata": {},
   "source": [
    "#### 13. Check the Confusion Matrix"
   ]
  },
  {
   "cell_type": "code",
   "execution_count": 24,
   "metadata": {
    "collapsed": false
   },
   "outputs": [
    {
     "data": {
      "text/plain": [
       "array([[156,  19],\n",
       "       [ 35,  85]])"
      ]
     },
     "execution_count": 24,
     "metadata": {},
     "output_type": "execute_result"
    }
   ],
   "source": [
    "from sklearn.metrics import confusion_matrix\n",
    "\n",
    "predictions = pipe_lr.predict(X_test)\n",
    "confusion_matrix(y_test, predictions)"
   ]
  },
  {
   "cell_type": "markdown",
   "metadata": {},
   "source": [
    "#### 14. What does the Confusion Matrix tell us? "
   ]
  },
  {
   "cell_type": "markdown",
   "metadata": {},
   "source": [
    "According to the Confusion Matrix: \n",
    " - We predicted 156 people were dead who were actually dead.\n",
    " - We predicted 19 people alive who were actually dead.\n",
    " - We predicted 35 people alive who were actually dead.\n",
    " - We predicted 85 people alive who were actually alive. \n"
   ]
  },
  {
   "cell_type": "markdown",
   "metadata": {},
   "source": [
    "#### 15. Plot the ROC curve"
   ]
  },
  {
   "cell_type": "code",
   "execution_count": 26,
   "metadata": {
    "collapsed": false
   },
   "outputs": [
    {
     "data": {
      "image/png": "[encoded data removed]",
      "text/plain": [
       "<matplotlib.figure.Figure at 0x11ac11490>"
      ]
     },
     "metadata": {},
     "output_type": "display_data"
    }
   ],
   "source": [
    "from sklearn.metrics import roc_curve, auc\n",
    "from sklearn.linear_model import LogisticRegression\n",
    "import matplotlib.pyplot as plt\n",
    "plt.style.use('seaborn-white')\n",
    "%matplotlib inline\n",
    "\n",
    "\n",
    "Y_score = lr.decision_function(X_test)\n",
    "\n",
    "FPR = dict()\n",
    "TPR = dict()\n",
    "ROC_AUC = dict()\n",
    "\n",
    "# For class 1, find the area under the curve\n",
    "FPR[1], TPR[1], _ = roc_curve(y_test, Y_score)\n",
    "ROC_AUC[1] = auc(FPR[1], TPR[1])\n",
    "\n",
    "# Plot of a ROC curve for class 1 (has_cancer)\n",
    "plt.figure(figsize=[11,9])\n",
    "plt.plot(FPR[1], TPR[1], label='ROC curve (area = %0.2f)' % ROC_AUC[1], linewidth=4)\n",
    "plt.plot([0, 1], [0, 1], 'k--', linewidth=4)\n",
    "plt.xlim([0.0, 1.0])\n",
    "plt.ylim([0.0, 1.05])\n",
    "plt.xlabel('False Positive Rate (Specificity)', fontsize=18)\n",
    "plt.ylabel('True Positive Rate (Sensitivity)', fontsize=18)\n",
    "plt.title('ROC Curve', fontsize=18)\n",
    "plt.legend(loc=\"lower right\")\n",
    "plt.show()"
   ]
  },
  {
   "cell_type": "markdown",
   "metadata": {},
   "source": [
    "#### 16. What does the ROC curve tell us?"
   ]
  },
  {
   "cell_type": "markdown",
   "metadata": {},
   "source": [
    "The closer the ROC curve is to the upper left border, the more accurate the test is. The closer to 45 degrees, the less accurate. This ROC curve is relatively well made, telling us the test is relatively accurate. "
   ]
  },
  {
   "cell_type": "markdown",
   "metadata": {},
   "source": [
    "## Part 5: Gridsearch"
   ]
  },
  {
   "cell_type": "code",
   "execution_count": 27,
   "metadata": {
    "collapsed": false
   },
   "outputs": [
    {
     "name": "stdout",
     "output_type": "stream",
     "text": [
      "Scaled/Standardized Improved Test Accuracy: 0.8339\n"
     ]
    }
   ],
   "source": [
    "from sklearn.preprocessing import StandardScaler\n",
    "from sklearn.linear_model import LogisticRegression\n",
    "from sklearn.pipeline import Pipeline\n",
    "\n",
    "pipe_lr = Pipeline([ ('scl', StandardScaler()), ('clf', LogisticRegression(random_state=1)) ])\n",
    "pipe_lr.fit(X, y)\n",
    "print('Scaled/Standardized Improved Test Accuracy: %.4f' % pipe_lr.score(X_test, y_test))"
   ]
  },
  {
   "cell_type": "markdown",
   "metadata": {},
   "source": [
    "#### 1. Use GridSearchCV with logistic regression to search for optimal parameters \n",
    "\n",
    "- Use the provided parameter grid. Feel free to add if you like (such as n_jobs).\n",
    "- Use 5-fold cross-validation."
   ]
  },
  {
   "cell_type": "code",
   "execution_count": 28,
   "metadata": {
    "collapsed": true
   },
   "outputs": [],
   "source": [
    "logreg_parameters = {\n",
    "    'penalty':['l1','l2'],\n",
    "    'C':np.logspace(-5,1,50),\n",
    "    'solver':['liblinear']\n",
    "}"
   ]
  },
  {
   "cell_type": "code",
   "execution_count": 29,
   "metadata": {
    "collapsed": false
   },
   "outputs": [
    {
     "name": "stdout",
     "output_type": "stream",
     "text": [
      "Grid Search Best Score: 0.7890\n",
      "Grid Search Best Parameter for C: \n",
      "{'clf__C': 10.0}\n",
      "0.789001122334\n",
      "[[ 0.93404235  0.06595765]\n",
      " [ 0.76339196  0.23660804]\n",
      " [ 0.86120413  0.13879587]\n",
      " [ 0.07363169  0.92636831]\n",
      " [ 0.30308519  0.69691481]\n",
      " [ 0.04455965  0.95544035]\n",
      " [ 0.36570133  0.63429867]\n",
      " [ 0.91197325  0.08802675]\n",
      " [ 0.25098001  0.74901999]\n",
      " [ 0.04887331  0.95112669]\n",
      " [ 0.63524859  0.36475141]\n",
      " [ 0.94135002  0.05864998]\n",
      " [ 0.63655278  0.36344722]\n",
      " [ 0.90233819  0.09766181]\n",
      " [ 0.79613162  0.20386838]\n",
      " [ 0.03780727  0.96219273]\n",
      " [ 0.68014456  0.31985544]\n",
      " [ 0.36564878  0.63435122]\n",
      " [ 0.73218871  0.26781129]\n",
      " [ 0.64660178  0.35339822]\n",
      " [ 0.87909315  0.12090685]\n",
      " [ 0.54039707  0.45960293]\n",
      " [ 0.34867132  0.65132868]\n",
      " [ 0.86075903  0.13924097]\n",
      " [ 0.8994157   0.1005843 ]\n",
      " [ 0.93375082  0.06624918]\n",
      " [ 0.59779397  0.40220603]\n",
      " [ 0.76209783  0.23790217]\n",
      " [ 0.91744266  0.08255734]\n",
      " [ 0.37766601  0.62233399]\n",
      " [ 0.85641106  0.14358894]\n",
      " [ 0.29823792  0.70176208]\n",
      " [ 0.49492594  0.50507406]\n",
      " [ 0.36583405  0.63416595]\n",
      " [ 0.85141467  0.14858533]\n",
      " [ 0.91937726  0.08062274]\n",
      " [ 0.47468421  0.52531579]\n",
      " [ 0.36570133  0.63429867]\n",
      " [ 0.05896656  0.94103344]\n",
      " [ 0.9011119   0.0988881 ]\n",
      " [ 0.78497997  0.21502003]\n",
      " [ 0.92651422  0.07348578]\n",
      " [ 0.90107259  0.09892741]\n",
      " [ 0.90114906  0.09885094]\n",
      " [ 0.53698106  0.46301894]\n",
      " [ 0.90695118  0.09304882]\n",
      " [ 0.8563187   0.1436813 ]\n",
      " [ 0.87440194  0.12559806]\n",
      " [ 0.87935007  0.12064993]\n",
      " [ 0.74809639  0.25190361]\n",
      " [ 0.32077292  0.67922708]\n",
      " [ 0.16584451  0.83415549]\n",
      " [ 0.96637156  0.03362844]\n",
      " [ 0.39109976  0.60890024]\n",
      " [ 0.97362216  0.02637784]\n",
      " [ 0.04067223  0.95932777]\n",
      " [ 0.77047258  0.22952742]\n",
      " [ 0.07690659  0.92309341]\n",
      " [ 0.18831907  0.81168093]\n",
      " [ 0.27390148  0.72609852]\n",
      " [ 0.86592178  0.13407822]\n",
      " [ 0.09829848  0.90170152]\n",
      " [ 0.19740138  0.80259862]\n",
      " [ 0.49833751  0.50166249]\n",
      " [ 0.90114906  0.09885094]\n",
      " [ 0.3636849   0.6363151 ]\n",
      " [ 0.6445127   0.3554873 ]\n",
      " [ 0.89862183  0.10137817]\n",
      " [ 0.89755662  0.10244338]\n",
      " [ 0.15660269  0.84339731]\n",
      " [ 0.20263384  0.79736616]\n",
      " [ 0.04817904  0.95182096]\n",
      " [ 0.45888136  0.54111864]\n",
      " [ 0.10902098  0.89097902]\n",
      " [ 0.87483195  0.12516805]\n",
      " [ 0.94198652  0.05801348]\n",
      " [ 0.37309169  0.62690831]\n",
      " [ 0.0513691   0.9486309 ]\n",
      " [ 0.21094464  0.78905536]\n",
      " [ 0.52128603  0.47871397]\n",
      " [ 0.95638613  0.04361387]\n",
      " [ 0.15860776  0.84139224]\n",
      " [ 0.09903177  0.90096823]\n",
      " [ 0.90115224  0.09884776]\n",
      " [ 0.73528616  0.26471384]\n",
      " [ 0.82664479  0.17335521]\n",
      " [ 0.06812965  0.93187035]\n",
      " [ 0.05498299  0.94501701]\n",
      " [ 0.59780982  0.40219018]\n",
      " [ 0.90127639  0.09872361]\n",
      " [ 0.82883384  0.17116616]\n",
      " [ 0.54629646  0.45370354]\n",
      " [ 0.7711889   0.2288111 ]\n",
      " [ 0.90115436  0.09884564]\n",
      " [ 0.9011119   0.0988881 ]\n",
      " [ 0.89496107  0.10503893]\n",
      " [ 0.72982029  0.27017971]\n",
      " [ 0.9434993   0.0565007 ]\n",
      " [ 0.19805892  0.80194108]\n",
      " [ 0.8911668   0.1088332 ]\n",
      " [ 0.79445022  0.20554978]\n",
      " [ 0.91847758  0.08152242]\n",
      " [ 0.04619142  0.95380858]\n",
      " [ 0.9269597   0.0730403 ]\n",
      " [ 0.90386498  0.09613502]\n",
      " [ 0.91480685  0.08519315]\n",
      " [ 0.29891053  0.70108947]\n",
      " [ 0.6553753   0.3446247 ]\n",
      " [ 0.90176321  0.09823679]\n",
      " [ 0.59553657  0.40446343]\n",
      " [ 0.07641827  0.92358173]\n",
      " [ 0.8637822   0.1362178 ]\n",
      " [ 0.06925599  0.93074401]\n",
      " [ 0.56018724  0.43981276]\n",
      " [ 0.36195383  0.63804617]\n",
      " [ 0.86054606  0.13945394]\n",
      " [ 0.83264792  0.16735208]\n",
      " [ 0.79618965  0.20381035]\n",
      " [ 0.17697843  0.82302157]\n",
      " [ 0.68651598  0.31348402]\n",
      " [ 0.84069937  0.15930063]\n",
      " [ 0.0562351   0.9437649 ]\n",
      " [ 0.22320603  0.77679397]\n",
      " [ 0.53671611  0.46328389]\n",
      " [ 0.8834313   0.1165687 ]\n",
      " [ 0.55021915  0.44978085]\n",
      " [ 0.11890719  0.88109281]\n",
      " [ 0.40496634  0.59503366]\n",
      " [ 0.44523777  0.55476223]\n",
      " [ 0.86583043  0.13416957]\n",
      " [ 0.36561561  0.63438439]\n",
      " [ 0.93404235  0.06595765]\n",
      " [ 0.75948676  0.24051324]\n",
      " [ 0.17614712  0.82385288]\n",
      " [ 0.73482178  0.26517822]\n",
      " [ 0.30955004  0.69044996]\n",
      " [ 0.04695667  0.95304333]\n",
      " [ 0.89864789  0.10135211]\n",
      " [ 0.93690428  0.06309572]\n",
      " [ 0.33337721  0.66662279]\n",
      " [ 0.86570301  0.13429699]\n",
      " [ 0.31674374  0.68325626]\n",
      " [ 0.73988494  0.26011506]\n",
      " [ 0.84744221  0.15255779]\n",
      " [ 0.57841441  0.42158559]\n",
      " [ 0.25510133  0.74489867]\n",
      " [ 0.75484106  0.24515894]\n",
      " [ 0.92810171  0.07189829]\n",
      " [ 0.05938928  0.94061072]\n",
      " [ 0.93912425  0.06087575]\n",
      " [ 0.90090353  0.09909647]\n",
      " [ 0.87921471  0.12078529]\n",
      " [ 0.85150663  0.14849337]\n",
      " [ 0.43840091  0.56159909]\n",
      " [ 0.90107259  0.09892741]\n",
      " [ 0.90132728  0.09867272]\n",
      " [ 0.88801458  0.11198542]\n",
      " [ 0.36567645  0.63432355]\n",
      " [ 0.25242956  0.74757044]\n",
      " [ 0.49504277  0.50495723]\n",
      " [ 0.87717757  0.12282243]\n",
      " [ 0.49789056  0.50210944]\n",
      " [ 0.81474391  0.18525609]\n",
      " [ 0.0705454   0.9294546 ]\n",
      " [ 0.90096843  0.09903157]\n",
      " [ 0.80227751  0.19772249]\n",
      " [ 0.70149924  0.29850076]\n",
      " [ 0.07644603  0.92355397]\n",
      " [ 0.87041585  0.12958415]\n",
      " [ 0.91849364  0.08150636]\n",
      " [ 0.43359918  0.56640082]\n",
      " [ 0.1315098   0.8684902 ]\n",
      " [ 0.56011676  0.43988324]\n",
      " [ 0.2828749   0.7171251 ]\n",
      " [ 0.8466768   0.1533232 ]\n",
      " [ 0.90128275  0.09871725]\n",
      " [ 0.65025083  0.34974917]\n",
      " [ 0.10489297  0.89510703]\n",
      " [ 0.24370374  0.75629626]\n",
      " [ 0.64838204  0.35161796]\n",
      " [ 0.69999962  0.30000038]\n",
      " [ 0.90893552  0.09106448]\n",
      " [ 0.91782686  0.08217314]\n",
      " [ 0.51671204  0.48328796]\n",
      " [ 0.31987068  0.68012932]\n",
      " [ 0.64513116  0.35486884]\n",
      " [ 0.80104484  0.19895516]\n",
      " [ 0.9011119   0.0988881 ]\n",
      " [ 0.49149096  0.50850904]\n",
      " [ 0.23852539  0.76147461]\n",
      " [ 0.94657883  0.05342117]\n",
      " [ 0.77652323  0.22347677]\n",
      " [ 0.88684729  0.11315271]\n",
      " [ 0.89819758  0.10180242]\n",
      " [ 0.31667029  0.68332971]\n",
      " [ 0.08388131  0.91611869]\n",
      " [ 0.04674159  0.95325841]\n",
      " [ 0.78297023  0.21702977]\n",
      " [ 0.04700236  0.95299764]\n",
      " [ 0.56585214  0.43414786]\n",
      " [ 0.96936108  0.03063892]\n",
      " [ 0.36786342  0.63213658]\n",
      " [ 0.08616855  0.91383145]\n",
      " [ 0.68205948  0.31794052]\n",
      " [ 0.86144187  0.13855813]\n",
      " [ 0.40887307  0.59112693]\n",
      " [ 0.89820195  0.10179805]\n",
      " [ 0.63359744  0.36640256]\n",
      " [ 0.89942649  0.10057351]\n",
      " [ 0.9531766   0.0468234 ]\n",
      " [ 0.39638485  0.60361515]\n",
      " [ 0.90233189  0.09766811]\n",
      " [ 0.07799018  0.92200982]\n",
      " [ 0.90115543  0.09884457]\n",
      " [ 0.63655278  0.36344722]\n",
      " [ 0.90347602  0.09652398]\n",
      " [ 0.19450951  0.80549049]\n",
      " [ 0.70008392  0.29991608]\n",
      " [ 0.14685431  0.85314569]\n",
      " [ 0.90127639  0.09872361]\n",
      " [ 0.9011119   0.0988881 ]\n",
      " [ 0.13309692  0.86690308]\n",
      " [ 0.89778406  0.10221594]\n",
      " [ 0.49506595  0.50493405]\n",
      " [ 0.8834902   0.1165098 ]\n",
      " [ 0.16053185  0.83946815]\n",
      " [ 0.87053679  0.12946321]\n",
      " [ 0.28246655  0.71753345]\n",
      " [ 0.1734924   0.8265076 ]\n",
      " [ 0.33231265  0.66768735]\n",
      " [ 0.83343041  0.16656959]\n",
      " [ 0.0539311   0.9460689 ]\n",
      " [ 0.90114906  0.09885094]\n",
      " [ 0.36604697  0.63395303]\n",
      " [ 0.9009163   0.0990837 ]\n",
      " [ 0.29822295  0.70177705]\n",
      " [ 0.1621257   0.8378743 ]\n",
      " [ 0.26499898  0.73500102]\n",
      " [ 0.05433129  0.94566871]\n",
      " [ 0.89989537  0.10010463]\n",
      " [ 0.8591662   0.1408338 ]\n",
      " [ 0.29985115  0.70014885]\n",
      " [ 0.90128275  0.09871725]\n",
      " [ 0.28139693  0.71860307]\n",
      " [ 0.91713171  0.08286829]\n",
      " [ 0.89451768  0.10548232]\n",
      " [ 0.90107259  0.09892741]\n",
      " [ 0.87481891  0.12518109]\n",
      " [ 0.87062407  0.12937593]\n",
      " [ 0.70343536  0.29656464]\n",
      " [ 0.36533108  0.63466892]\n",
      " [ 0.8276089   0.1723911 ]\n",
      " [ 0.90114906  0.09885094]\n",
      " [ 0.87063077  0.12936923]\n",
      " [ 0.76662314  0.23337686]\n",
      " [ 0.891422    0.108578  ]\n",
      " [ 0.87036609  0.12963391]\n",
      " [ 0.15155471  0.84844529]\n",
      " [ 0.79728986  0.20271014]\n",
      " [ 0.20375304  0.79624696]\n",
      " [ 0.03131741  0.96868259]\n",
      " [ 0.71448293  0.28551707]\n",
      " [ 0.22443408  0.77556592]\n",
      " [ 0.89095391  0.10904609]\n",
      " [ 0.51687081  0.48312919]\n",
      " [ 0.80059284  0.19940716]\n",
      " [ 0.846105    0.153895  ]\n",
      " [ 0.48107199  0.51892801]\n",
      " [ 0.27670759  0.72329241]\n",
      " [ 0.9011119   0.0988881 ]\n",
      " [ 0.22523752  0.77476248]\n",
      " [ 0.86920213  0.13079787]\n",
      " [ 0.88731319  0.11268681]\n",
      " [ 0.51731754  0.48268246]\n",
      " [ 0.23639366  0.76360634]\n",
      " [ 0.89857622  0.10142378]\n",
      " [ 0.85132418  0.14867582]\n",
      " [ 0.75153522  0.24846478]\n",
      " [ 0.10155287  0.89844713]\n",
      " [ 0.81474391  0.18525609]\n",
      " [ 0.94052203  0.05947797]\n",
      " [ 0.86150304  0.13849696]\n",
      " [ 0.06147963  0.93852037]\n",
      " [ 0.95243069  0.04756931]\n",
      " [ 0.69876925  0.30123075]\n",
      " [ 0.92368932  0.07631068]\n",
      " [ 0.36561561  0.63438439]\n",
      " [ 0.93928754  0.06071246]\n",
      " [ 0.617678    0.382322  ]\n",
      " [ 0.83810621  0.16189379]\n",
      " [ 0.85649751  0.14350249]\n",
      " [ 0.93326338  0.06673662]\n",
      " [ 0.18443074  0.81556926]\n",
      " [ 0.41379943  0.58620057]\n",
      " [ 0.86587196  0.13412804]]\n"
     ]
    }
   ],
   "source": [
    "from sklearn.grid_search import GridSearchCV\n",
    "param_range = [0.0001, 0.001, 0.01, 0.1, 1.0, 10.0, 100.0, 1000.0]\n",
    "param_grid = [{'clf__C': param_range}]\n",
    "\n",
    "gs = GridSearchCV(estimator=pipe_lr, param_grid=param_grid, scoring='accuracy', cv=10,n_jobs=-1)\n",
    "\n",
    "gs = gs.fit(X, y)\n",
    "print('Grid Search Best Score: %.4f' % gs.best_score_)\n",
    "print('Grid Search Best Parameter for C: ')\n",
    "print gs.best_params_\n",
    "print gs.best_score_\n",
    "\n",
    "print gs.predict_proba(X_test)"
   ]
  },
  {
   "cell_type": "markdown",
   "metadata": {},
   "source": [
    "#### 2. Print out the best parameters and best score. Are they better than the vanilla logistic regression?"
   ]
  },
  {
   "cell_type": "markdown",
   "metadata": {
    "collapsed": true
   },
   "source": [
    "The best score is .789 (or 78.9%) which is exactly 1% below the logistic regression score of 79.9%."
   ]
  },
  {
   "cell_type": "markdown",
   "metadata": {},
   "source": [
    "#### 3. Explain the difference between the difference between the L1 (Lasso) and L2 (Ridge) penalties on the model coefficients."
   ]
  },
  {
   "cell_type": "markdown",
   "metadata": {},
   "source": [
    "In Ridge Regression you aren't able to zero out coefficients so you either use all or none at all. In Lasso, on the other hand, you can perform shrinkage on perameters and variable selection. "
   ]
  },
  {
   "cell_type": "markdown",
   "metadata": {},
   "source": [
    "#### 4. What hypothetical situations are the Ridge and Lasso penalties useful?"
   ]
  },
  {
   "cell_type": "markdown",
   "metadata": {},
   "source": [
    "If you have a large number of variables, Lasso may be more useful because you can tune the variables to see which are most important to your model. "
   ]
  },
  {
   "cell_type": "markdown",
   "metadata": {},
   "source": [
    "#### 5. Explain how the regularization strength (C) modifies the regression loss function. Why do the Ridge and Lasso penalties have their respective effects on the coefficients?"
   ]
  },
  {
   "cell_type": "markdown",
   "metadata": {
    "collapsed": true
   },
   "source": [
    "The smaller the value of C, the more constrained the model is. Conversely, a larger C value gives more freedom. L1 with a lower coefficient will be quite sparse. L2, on the other hand will have greater results, but a larger number of false positives. As the coefficients increase, so do the responses. The L1 will always err on the side of accuracy, where the L2 lets more responses through, regardless of accuracy. "
   ]
  },
  {
   "cell_type": "markdown",
   "metadata": {},
   "source": [
    "#### 6. You decide that you want to minimize false positives. Use the predicted probabilities from the model to set your threshold for labeling the positive class to need at least 90% confidence. How and why does this affect your confusion matrix?"
   ]
  },
  {
   "cell_type": "code",
   "execution_count": 30,
   "metadata": {
    "collapsed": false
   },
   "outputs": [],
   "source": [
    "Y_proba= lr.predict_proba(X_test)"
   ]
  },
  {
   "cell_type": "code",
   "execution_count": 31,
   "metadata": {
    "collapsed": false
   },
   "outputs": [],
   "source": [
    "Y_proba\n",
    "\n",
    "def make_class(probas, threshold):\n",
    "    output = []\n",
    "    for i in probas:\n",
    "        if i[0] > threshold:\n",
    "            output.append(0)\n",
    "        else:\n",
    "            output.append(1)\n",
    "    return output\n",
    "\n",
    "y_90 = make_class(Y_proba, .9)"
   ]
  },
  {
   "cell_type": "code",
   "execution_count": 32,
   "metadata": {
    "collapsed": false
   },
   "outputs": [
    {
     "data": {
      "text/plain": [
       "array([[ 18, 157],\n",
       "       [  3, 117]])"
      ]
     },
     "execution_count": 32,
     "metadata": {},
     "output_type": "execute_result"
    }
   ],
   "source": [
    "confusion_matrix(y_test, y_90)"
   ]
  },
  {
   "cell_type": "markdown",
   "metadata": {},
   "source": [
    "According to the Confusion Matrix: \n",
    " - We predicted 18 people were dead who were actually dead.\n",
    " - We predicted 157 people alive who were actually dead.\n",
    " - We predicted 3 people alive who were actually dead.\n",
    " - We predicted 117 people alive who were actually alive. "
   ]
  },
  {
   "cell_type": "markdown",
   "metadata": {},
   "source": [
    "With 90% confidence, we were able to minimize the false positive number to just 3, and increase our true positieves to 117. By doing this, however, our false negatives increased to 157 from 19."
   ]
  },
  {
   "cell_type": "markdown",
   "metadata": {},
   "source": [
    "## Part 6: Gridsearch and kNN"
   ]
  },
  {
   "cell_type": "markdown",
   "metadata": {},
   "source": [
    "#### 1. Perform Gridsearch for the same classification problem as above, but use KNeighborsClassifier as your estimator\n",
    "\n",
    "At least have number of neighbors and weights in your parameters dictionary."
   ]
  },
  {
   "cell_type": "code",
   "execution_count": 33,
   "metadata": {
    "collapsed": false,
    "scrolled": true
   },
   "outputs": [
    {
     "name": "stdout",
     "output_type": "stream",
     "text": [
      "Fitting 10 folds for each of 30 candidates, totalling 300 fits\n"
     ]
    },
    {
     "name": "stderr",
     "output_type": "stream",
     "text": [
      "[Parallel(n_jobs=1)]: Done  49 tasks       | elapsed:    0.2s\n",
      "[Parallel(n_jobs=1)]: Done 199 tasks       | elapsed:    0.6s\n",
      "[Parallel(n_jobs=1)]: Done 300 out of 300 | elapsed:    0.9s finished\n"
     ]
    },
    {
     "data": {
      "text/plain": [
       "GridSearchCV(cv=10, error_score='raise',\n",
       "       estimator=KNeighborsClassifier(algorithm='auto', leaf_size=30, metric='minkowski',\n",
       "           metric_params=None, n_jobs=1, n_neighbors=5, p=2,\n",
       "           weights='uniform'),\n",
       "       fit_params={}, iid=True, n_jobs=1,\n",
       "       param_grid={'n_neighbors': [5, 6, 7, 8, 9, 10, 11, 12, 13, 14, 15, 16, 17, 18, 19], 'weights': ['distance', 'uniform']},\n",
       "       pre_dispatch='2*n_jobs', refit=True, scoring=None, verbose=1)"
      ]
     },
     "execution_count": 33,
     "metadata": {},
     "output_type": "execute_result"
    }
   ],
   "source": [
    "from sklearn.grid_search import GridSearchCV\n",
    "from sklearn.neighbors import KNeighborsClassifier\n",
    "\n",
    "knn_params = {\n",
    "    'n_neighbors':range(5,20),\n",
    "    'weights':['distance','uniform']\n",
    "}\n",
    "\n",
    "knn_gs = GridSearchCV(KNeighborsClassifier(), knn_params, cv=10, verbose=1)\n",
    "knn_gs.fit(X_train, y_train)"
   ]
  },
  {
   "cell_type": "code",
   "execution_count": 34,
   "metadata": {
    "collapsed": false
   },
   "outputs": [
    {
     "name": "stdout",
     "output_type": "stream",
     "text": [
      "{'n_neighbors': 7, 'weights': 'uniform'}\n",
      "0.714765100671\n"
     ]
    }
   ],
   "source": [
    "knn_best = knn_gs.best_estimator_\n",
    "print knn_gs.best_params_\n",
    "print knn_gs.best_score_"
   ]
  },
  {
   "cell_type": "code",
   "execution_count": 35,
   "metadata": {
    "collapsed": false
   },
   "outputs": [],
   "source": [
    "# from sklearn.svm import SVC\n",
    "# #  'kernel':['linear','rbf']\n",
    "# # 'C':np.logspace(1e-1, 1e1, 3)\n",
    "\n",
    "# svc_params = {\n",
    "#     'C':np.logspace(1e-1, 1e1, 3),\n",
    "#     'kernel':['linear']\n",
    "# }\n",
    "\n",
    "# svc_gs = GridSearchCV(SVC(), svc_params, cv=2, verbose=1)\n",
    "# svc_gs.fit(X, y)"
   ]
  },
  {
   "cell_type": "code",
   "execution_count": 36,
   "metadata": {
    "collapsed": false
   },
   "outputs": [],
   "source": [
    "from sklearn.cross_validation import train_test_split\n",
    "from sklearn.cross_validation import StratifiedKFold\n",
    "from sklearn.neighbors import KNeighborsClassifier\n",
    "from sklearn.neighbors import KNeighborsClassifier\n",
    "\n",
    "def accuracy_crossvalidator(X, Y, knn, cv_indices):\n",
    "    \n",
    "    scores = []\n",
    "    \n",
    "    for train_i, test_i in cv_indices:\n",
    "        \n",
    "        X_train = X[train_i, :]\n",
    "        X_test = X[test_i, :]\n",
    "\n",
    "        Y_train = Y[train_i]\n",
    "        Y_test = Y[test_i]\n",
    "\n",
    "        knn.fit(X_train, Y_train)\n",
    "        \n",
    "        acc = knn.score(X_test, Y_test)\n",
    "        scores.append(acc)\n",
    "        \n",
    "        print('Fold accuracy:', acc)\n",
    "        \n",
    "    print('Mean CV accuracy:', np.mean(scores))"
   ]
  },
  {
   "cell_type": "markdown",
   "metadata": {},
   "source": [
    "#### 2. Print the best parameters and score for the gridsearched kNN model. How does it compare to the logistic regression model?"
   ]
  },
  {
   "cell_type": "code",
   "execution_count": 37,
   "metadata": {
    "collapsed": false,
    "scrolled": false
   },
   "outputs": [
    {
     "name": "stdout",
     "output_type": "stream",
     "text": [
      "3 Neighbors \n",
      "('Fold accuracy:', 0.65921787709497204)\n",
      "('Fold accuracy:', 0.70949720670391059)\n",
      "('Fold accuracy:', 0.7303370786516854)\n",
      "('Fold accuracy:', 0.7359550561797753)\n",
      "('Fold accuracy:', 0.69491525423728817)\n",
      "('Mean CV accuracy:', 0.7059844945735263)\n",
      "None\n",
      "5 Neighbors \n",
      "('Fold accuracy:', 0.66480446927374304)\n",
      "('Fold accuracy:', 0.69273743016759781)\n",
      "('Fold accuracy:', 0.7415730337078652)\n",
      "('Fold accuracy:', 0.7191011235955056)\n",
      "('Fold accuracy:', 0.75141242937853103)\n",
      "('Mean CV accuracy:', 0.7139256972246486)\n",
      "None\n",
      "7 Neighbors \n",
      "('Fold accuracy:', 0.65921787709497204)\n",
      "('Fold accuracy:', 0.69273743016759781)\n",
      "('Fold accuracy:', 0.702247191011236)\n",
      "('Fold accuracy:', 0.7471910112359551)\n",
      "('Fold accuracy:', 0.75706214689265539)\n",
      "('Mean CV accuracy:', 0.71169113128048322)\n",
      "None\n",
      "9 Neighbors \n",
      "('Fold accuracy:', 0.64804469273743015)\n",
      "('Fold accuracy:', 0.67597765363128492)\n",
      "('Fold accuracy:', 0.7247191011235955)\n",
      "('Fold accuracy:', 0.7471910112359551)\n",
      "('Fold accuracy:', 0.7231638418079096)\n",
      "('Mean CV accuracy:', 0.70381926010723506)\n",
      "None\n",
      "11 Neighbors \n",
      "('Fold accuracy:', 0.61452513966480449)\n",
      "('Fold accuracy:', 0.7039106145251397)\n",
      "('Fold accuracy:', 0.702247191011236)\n",
      "('Fold accuracy:', 0.7415730337078652)\n",
      "('Fold accuracy:', 0.74011299435028244)\n",
      "('Mean CV accuracy:', 0.70047379465186554)\n",
      "None\n"
     ]
    }
   ],
   "source": [
    "\n",
    "cv_indices = StratifiedKFold(y, n_folds=5)\n",
    "\n",
    "for i in range(3,12, 2):\n",
    "    \n",
    "    mean_knn_n5 = KNeighborsClassifier(n_neighbors=i,\n",
    "                                       weights='uniform')\n",
    "\n",
    "    print str(i) + \" Neighbors \\n\", accuracy_crossvalidator(X, y, mean_knn_n5, cv_indices)"
   ]
  },
  {
   "cell_type": "markdown",
   "metadata": {},
   "source": [
    "#### 3. How does the number of neighbors affect the bias-variance tradeoff of your model?\n",
    "\n",
    "#### Why?"
   ]
  },
  {
   "cell_type": "markdown",
   "metadata": {
    "collapsed": true
   },
   "source": [
    "The mean Cross Validation accuracy is relatively comparable across all neighbors. According to this, five will be the best number of neighbors to use. In general, kNN is not the best model to use in the case of the Titanic, as even the best is almost 10% below the Logistic Regression model.  "
   ]
  },
  {
   "cell_type": "markdown",
   "metadata": {},
   "source": [
    "#### 4. In what hypothetical scenario(s) might you prefer logistic regression over kNN, aside from model performance metrics?"
   ]
  },
  {
   "cell_type": "markdown",
   "metadata": {
    "collapsed": true
   },
   "source": [
    "If you have very few low bias/high variance classifiers, logistic regression would be the preferred model because using kNN could result in overfitting. "
   ]
  },
  {
   "cell_type": "markdown",
   "metadata": {},
   "source": [
    "#### 5. Fit a new kNN model with the optimal parameters found in gridsearch. "
   ]
  },
  {
   "cell_type": "code",
   "execution_count": 38,
   "metadata": {
    "collapsed": false,
    "scrolled": true
   },
   "outputs": [
    {
     "data": {
      "text/plain": [
       "KNeighborsClassifier(algorithm='auto', leaf_size=30, metric='minkowski',\n",
       "           metric_params=None, n_jobs=1, n_neighbors=7, p=2,\n",
       "           weights='distance')"
      ]
     },
     "execution_count": 38,
     "metadata": {},
     "output_type": "execute_result"
    }
   ],
   "source": [
    "from sklearn.neighbors import KNeighborsClassifier\n",
    "\n",
    "neigh = KNeighborsClassifier(n_neighbors=7, weights='distance')\n",
    "neigh.fit(X_train, y_train)"
   ]
  },
  {
   "cell_type": "markdown",
   "metadata": {},
   "source": [
    "#### 6. Construct the confusion matrix for the optimal kNN model. Is it different from the logistic regression model? If so, how?"
   ]
  },
  {
   "cell_type": "code",
   "execution_count": 39,
   "metadata": {
    "collapsed": false
   },
   "outputs": [
    {
     "data": {
      "text/plain": [
       "array([[138,  37],\n",
       "       [ 49,  71]])"
      ]
     },
     "execution_count": 39,
     "metadata": {},
     "output_type": "execute_result"
    }
   ],
   "source": [
    "knn_predict = neigh.predict(X_test)\n",
    "confusion_matrix(y_test, knn_predict)"
   ]
  },
  {
   "cell_type": "markdown",
   "metadata": {},
   "source": [
    "According to the Confusion Matrix: \n",
    " - We predicted 138 people were dead who were actually dead.\n",
    " - We predicted 37 people alive who were actually dead.\n",
    " - We predicted 49 people alive who were actually dead.\n",
    " - We predicted 71 people alive who were actually alive. "
   ]
  },
  {
   "cell_type": "markdown",
   "metadata": {},
   "source": [
    "The kNN confusion matrix is less accurate than the logistic regression model. We essentially want the top left and bottom right numbers to be as large as possible, and the top right and bottom left to be as close to zero as possible. In this instance, with 37 and 49, we incorrectly guessed 32 more times than in the Logistic Regression model. "
   ]
  },
  {
   "cell_type": "markdown",
   "metadata": {},
   "source": [
    "#### 7. Plot the ROC curves for the optimized logistic regression model and the optimized kNN model on the same plot."
   ]
  },
  {
   "cell_type": "code",
   "execution_count": 40,
   "metadata": {
    "collapsed": false
   },
   "outputs": [
    {
     "data": {
      "image/png": "[encoded data removed]",
      "text/plain": [
       "<matplotlib.figure.Figure at 0x11d50e790>"
      ]
     },
     "metadata": {
      "image/png": {
       "height": 420,
       "width": 560
      }
     },
     "output_type": "display_data"
    }
   ],
   "source": [
    "%matplotlib inline\n",
    "import seaborn as sns\n",
    "%config InlineBackend.figure_format = 'retina'\n",
    "plt.style.use('fivethirtyeight')\n",
    "\n",
    "y_pred_knn = neigh.predict_proba(X_test)[:,1]\n",
    "y_pred_logreg = lr.decision_function(X_test)\n",
    "\n",
    "fpr_knn, tpr_knn, _ = roc_curve(y_test, y_pred_knn) \n",
    "fpr_log, tpr_log, _ = roc_curve(y_test, y_pred_logreg) \n",
    "\n",
    "AUC_knn = auc(fpr_knn, tpr_knn)\n",
    "AUC_log = auc(fpr_log, tpr_log)\n",
    "\n",
    "# Plot of a ROC curve for class 1 (survived)\n",
    "\n",
    "plt.figure(figsize=[8,6])\n",
    "plt.plot(fpr_knn, tpr_knn, linewidth=4, color ='r',\n",
    "         label='kNN (area = %0.2f)' % AUC_knn)\n",
    "plt.plot(fpr_log, tpr_log, linewidth=4, color ='b',\n",
    "         label='Logit (area = %0.2f)' % AUC_log)\n",
    "plt.plot([0, 1], [0, 1], 'g--', linewidth=3)\n",
    "plt.xlim([0.0, 1.0])\n",
    "plt.ylim([0.0, 1.05])\n",
    "plt.xlabel('False Positive Rate', fontsize=13)\n",
    "plt.ylabel('True Positive Rate', fontsize=13)\n",
    "plt.title('ROC Curve (Survived = 1)', fontsize=13)\n",
    "plt.legend(loc=\"best\")\n",
    "\n",
    "plt.show()"
   ]
  },
  {
   "cell_type": "markdown",
   "metadata": {},
   "source": [
    "## Part 7: Precision-recall"
   ]
  },
  {
   "cell_type": "markdown",
   "metadata": {},
   "source": [
    "#### 1. Gridsearch the same parameters for logistic regression but change the scoring function to 'average_precision'\n",
    "\n",
    "`'average_precision'` will optimize parameters for area under the precision-recall curve instead of for accuracy."
   ]
  },
  {
   "cell_type": "code",
   "execution_count": 44,
   "metadata": {
    "collapsed": false
   },
   "outputs": [
    {
     "name": "stdout",
     "output_type": "stream",
     "text": [
      "Grid Search Best Score: 0.7936\n",
      "('Grid Search Best Parameter for C: ', {'clf__C': 0.1})\n",
      "[[ 0.89760391  0.10239609]\n",
      " [ 0.75315301  0.24684699]\n",
      " [ 0.8329212   0.1670788 ]\n",
      " [ 0.13608076  0.86391924]\n",
      " [ 0.32869178  0.67130822]\n",
      " [ 0.08107831  0.91892169]\n",
      " [ 0.36205681  0.63794319]\n",
      " [ 0.87528697  0.12471303]\n",
      " [ 0.29080856  0.70919144]\n",
      " [ 0.10634706  0.89365294]\n",
      " [ 0.64136983  0.35863017]\n",
      " [ 0.89801523  0.10198477]\n",
      " [ 0.55069961  0.44930039]\n",
      " [ 0.8637258   0.1362742 ]\n",
      " [ 0.77274954  0.22725046]\n",
      " [ 0.08482148  0.91517852]\n",
      " [ 0.66866908  0.33133092]\n",
      " [ 0.36198202  0.63801798]\n",
      " [ 0.73309388  0.26690612]\n",
      " [ 0.64198328  0.35801672]\n",
      " [ 0.84572964  0.15427036]\n",
      " [ 0.59378262  0.40621738]\n",
      " [ 0.35855744  0.64144256]\n",
      " [ 0.83218011  0.16781989]\n",
      " [ 0.85932556  0.14067444]\n",
      " [ 0.9050882   0.0949118 ]\n",
      " [ 0.6264899   0.3735101 ]\n",
      " [ 0.75124754  0.24875246]\n",
      " [ 0.89213472  0.10786528]\n",
      " [ 0.36911609  0.63088391]\n",
      " [ 0.82961029  0.17038971]\n",
      " [ 0.32101525  0.67898475]\n",
      " [ 0.56479203  0.43520797]\n",
      " [ 0.36224573  0.63775427]\n",
      " [ 0.82613976  0.17386024]\n",
      " [ 0.87920579  0.12079421]\n",
      " [ 0.55000156  0.44999844]\n",
      " [ 0.36205681  0.63794319]\n",
      " [ 0.10553142  0.89446858]\n",
      " [ 0.86255854  0.13744146]\n",
      " [ 0.75003447  0.24996553]\n",
      " [ 0.88722206  0.11277794]\n",
      " [ 0.86248377  0.13751623]\n",
      " [ 0.8626292   0.1373708 ]\n",
      " [ 0.47360004  0.52639996]\n",
      " [ 0.88266852  0.11733148]\n",
      " [ 0.8294585   0.1705415 ]\n",
      " [ 0.84188659  0.15811341]\n",
      " [ 0.84618034  0.15381966]\n",
      " [ 0.69945367  0.30054633]\n",
      " [ 0.3552173   0.6447827 ]\n",
      " [ 0.18144187  0.81855813]\n",
      " [ 0.93928766  0.06071234]\n",
      " [ 0.48530461  0.51469539]\n",
      " [ 0.93552416  0.06447584]\n",
      " [ 0.08544559  0.91455441]\n",
      " [ 0.75753728  0.24246272]\n",
      " [ 0.08143944  0.91856056]\n",
      " [ 0.22508331  0.77491669]\n",
      " [ 0.305591    0.694409  ]\n",
      " [ 0.83628083  0.16371917]\n",
      " [ 0.16424828  0.83575172]\n",
      " [ 0.23438303  0.76561697]\n",
      " [ 0.56958101  0.43041899]\n",
      " [ 0.8626292   0.1373708 ]\n",
      " [ 0.33818385  0.66181615]\n",
      " [ 0.65036298  0.34963702]\n",
      " [ 0.86059053  0.13940947]\n",
      " [ 0.87015998  0.12984002]\n",
      " [ 0.17229219  0.82770781]\n",
      " [ 0.24861261  0.75138739]\n",
      " [ 0.06663419  0.93336581]\n",
      " [ 0.54381657  0.45618343]\n",
      " [ 0.14520112  0.85479888]\n",
      " [ 0.84263131  0.15736869]\n",
      " [ 0.89970718  0.10029282]\n",
      " [ 0.3664569   0.6335431 ]\n",
      " [ 0.10410995  0.89589005]\n",
      " [ 0.24371904  0.75628096]\n",
      " [ 0.47527151  0.52472849]\n",
      " [ 0.92151885  0.07848115]\n",
      " [ 0.20821816  0.79178184]\n",
      " [ 0.12357928  0.87642072]\n",
      " [ 0.86263526  0.13736474]\n",
      " [ 0.70777937  0.29222063]\n",
      " [ 0.76198432  0.23801568]\n",
      " [ 0.09878062  0.90121938]\n",
      " [ 0.09593343  0.90406657]\n",
      " [ 0.64177834  0.35822166]\n",
      " [ 0.8628713   0.1371287 ]\n",
      " [ 0.82408532  0.17591468]\n",
      " [ 0.51321939  0.48678061]\n",
      " [ 0.73039031  0.26960969]\n",
      " [ 0.86263928  0.13736072]\n",
      " [ 0.86255854  0.13744146]\n",
      " [ 0.85773008  0.14226992]\n",
      " [ 0.69989295  0.30010705]\n",
      " [ 0.90016764  0.09983236]\n",
      " [ 0.23507971  0.76492029]\n",
      " [ 0.85478917  0.14521083]\n",
      " [ 0.74906379  0.25093621]\n",
      " [ 0.87713993  0.12286007]\n",
      " [ 0.08280841  0.91719159]\n",
      " [ 0.88463788  0.11536212]\n",
      " [ 0.86472191  0.13527809]\n",
      " [ 0.87705068  0.12294932]\n",
      " [ 0.30427274  0.69572726]\n",
      " [ 0.65456934  0.34543066]\n",
      " [ 0.86262713  0.13737287]\n",
      " [ 0.6233469   0.3766531 ]\n",
      " [ 0.12013521  0.87986479]\n",
      " [ 0.83494624  0.16505376]\n",
      " [ 0.10499903  0.89500097]\n",
      " [ 0.60543142  0.39456858]\n",
      " [ 0.37268199  0.62731801]\n",
      " [ 0.83182529  0.16817471]\n",
      " [ 0.77282162  0.22717838]\n",
      " [ 0.77283929  0.22716071]\n",
      " [ 0.22913657  0.77086343]\n",
      " [ 0.59228005  0.40771995]\n",
      " [ 0.82126201  0.17873799]\n",
      " [ 0.09321693  0.90678307]\n",
      " [ 0.21295045  0.78704955]\n",
      " [ 0.63977007  0.36022993]\n",
      " [ 0.84913834  0.15086166]\n",
      " [ 0.59949224  0.40050776]\n",
      " [ 0.15899698  0.84100302]\n",
      " [ 0.4817787   0.5182213 ]\n",
      " [ 0.41221927  0.58778073]\n",
      " [ 0.83612681  0.16387319]\n",
      " [ 0.3619348   0.6380652 ]\n",
      " [ 0.89760391  0.10239609]\n",
      " [ 0.75539053  0.24460947]\n",
      " [ 0.23653755  0.76346245]\n",
      " [ 0.70064205  0.29935795]\n",
      " [ 0.33103246  0.66896754]\n",
      " [ 0.07791554  0.92208446]\n",
      " [ 0.86063958  0.13936042]\n",
      " [ 0.89378102  0.10621898]\n",
      " [ 0.34388578  0.65611422]\n",
      " [ 0.83591194  0.16408806]\n",
      " [ 0.30914394  0.69085606]\n",
      " [ 0.73771035  0.26228965]\n",
      " [ 0.80745374  0.19254626]\n",
      " [ 0.54799201  0.45200799]\n",
      " [ 0.28033424  0.71966576]\n",
      " [ 0.74678756  0.25321244]\n",
      " [ 0.87499632  0.12500368]\n",
      " [ 0.08489243  0.91510757]\n",
      " [ 0.89582179  0.10417821]\n",
      " [ 0.86216215  0.13783785]\n",
      " [ 0.84594292  0.15405708]\n",
      " [ 0.82628901  0.17371099]\n",
      " [ 0.40265156  0.59734844]\n",
      " [ 0.86248377  0.13751623]\n",
      " [ 0.86296804  0.13703196]\n",
      " [ 0.83725907  0.16274093]\n",
      " [ 0.3620214   0.6379786 ]\n",
      " [ 0.27013753  0.72986247]\n",
      " [ 0.45528982  0.54471018]\n",
      " [ 0.84453379  0.15546621]\n",
      " [ 0.56895435  0.43104565]\n",
      " [ 0.78500535  0.21499465]\n",
      " [ 0.10769333  0.89230667]\n",
      " [ 0.86228563  0.13771437]\n",
      " [ 0.74939296  0.25060704]\n",
      " [ 0.71620196  0.28379804]\n",
      " [ 0.12019465  0.87980535]\n",
      " [ 0.83943672  0.16056328]\n",
      " [ 0.87717298  0.12282702]\n",
      " [ 0.52330459  0.47669541]\n",
      " [ 0.20479378  0.79520622]\n",
      " [ 0.60533374  0.39466626]\n",
      " [ 0.32652235  0.67347765]\n",
      " [ 0.82325669  0.17674331]\n",
      " [ 0.8628834   0.1371166 ]\n",
      " [ 0.5983668   0.4016332 ]\n",
      " [ 0.16514969  0.83485031]\n",
      " [ 0.29974173  0.70025827]\n",
      " [ 0.65576754  0.34423246]\n",
      " [ 0.71411953  0.28588047]\n",
      " [ 0.86888934  0.13111066]\n",
      " [ 0.87955192  0.12044808]\n",
      " [ 0.49542881  0.50457119]\n",
      " [ 0.34613991  0.65386009]\n",
      " [ 0.65488917  0.34511083]\n",
      " [ 0.77499123  0.22500877]\n",
      " [ 0.86255854  0.13744146]\n",
      " [ 0.55995727  0.44004273]\n",
      " [ 0.2616333   0.7383667 ]\n",
      " [ 0.90753978  0.09246022]\n",
      " [ 0.76054899  0.23945101]\n",
      " [ 0.85544226  0.14455774]\n",
      " [ 0.85979141  0.14020859]\n",
      " [ 0.31524635  0.68475365]\n",
      " [ 0.11703908  0.88296092]\n",
      " [ 0.0600283   0.9399717 ]\n",
      " [ 0.76430929  0.23569071]\n",
      " [ 0.09006159  0.90993841]\n",
      " [ 0.52506397  0.47493603]\n",
      " [ 0.92996168  0.07003832]\n",
      " [ 0.36284413  0.63715587]\n",
      " [ 0.15819043  0.84180957]\n",
      " [ 0.55381655  0.44618345]\n",
      " [ 0.83331677  0.16668323]\n",
      " [ 0.40712021  0.59287979]\n",
      " [ 0.85979964  0.14020036]\n",
      " [ 0.63049192  0.36950808]\n",
      " [ 0.85934617  0.14065383]\n",
      " [ 0.9103335   0.0896665 ]\n",
      " [ 0.42740856  0.57259144]\n",
      " [ 0.86371377  0.13628623]\n",
      " [ 0.11222395  0.88777605]\n",
      " [ 0.86264131  0.13735869]\n",
      " [ 0.55069961  0.44930039]\n",
      " [ 0.87740067  0.12259933]\n",
      " [ 0.24120088  0.75879912]\n",
      " [ 0.68258568  0.31741432]\n",
      " [ 0.20280878  0.79719122]\n",
      " [ 0.8628713   0.1371287 ]\n",
      " [ 0.86255854  0.13744146]\n",
      " [ 0.18777277  0.81222723]\n",
      " [ 0.86680604  0.13319396]\n",
      " [ 0.56498882  0.43501118]\n",
      " [ 0.84924307  0.15075693]\n",
      " [ 0.22786935  0.77213065]\n",
      " [ 0.83964329  0.16035671]\n",
      " [ 0.39485284  0.60514716]\n",
      " [ 0.21778428  0.78221572]\n",
      " [ 0.34188046  0.65811954]\n",
      " [ 0.79944348  0.20055652]\n",
      " [ 0.07119976  0.92880024]\n",
      " [ 0.8626292   0.1373708 ]\n",
      " [ 0.36254884  0.63745116]\n",
      " [ 0.86218644  0.13781356]\n",
      " [ 0.32099297  0.67900703]\n",
      " [ 0.17102418  0.82897582]\n",
      " [ 0.29889539  0.70110461]\n",
      " [ 0.06561198  0.93438802]\n",
      " [ 0.8487443   0.1512557 ]\n",
      " [ 0.83412581  0.16587419]\n",
      " [ 0.29910265  0.70089735]\n",
      " [ 0.8628834   0.1371166 ]\n",
      " [ 0.30996318  0.69003682]\n",
      " [ 0.87616119  0.12383881]\n",
      " [ 0.85690686  0.14309314]\n",
      " [ 0.86248377  0.13751623]\n",
      " [ 0.84260875  0.15739125]\n",
      " [ 0.83979233  0.16020767]\n",
      " [ 0.68794378  0.31205622]\n",
      " [ 0.35924773  0.64075227]\n",
      " [ 0.80735373  0.19264627]\n",
      " [ 0.8626292   0.1373708 ]\n",
      " [ 0.83980377  0.16019623]\n",
      " [ 0.68985525  0.31014475]\n",
      " [ 0.85525591  0.14474409]\n",
      " [ 0.83935171  0.16064829]\n",
      " [ 0.16911221  0.83088779]\n",
      " [ 0.77453973  0.22546027]\n",
      " [ 0.23866723  0.76133277]\n",
      " [ 0.05625484  0.94374516]\n",
      " [ 0.66188108  0.33811892]\n",
      " [ 0.25257103  0.74742897]\n",
      " [ 0.8543996   0.1456004 ]\n",
      " [ 0.59535607  0.40464393]\n",
      " [ 0.75307895  0.24692105]\n",
      " [ 0.82234004  0.17765996]\n",
      " [ 0.55904189  0.44095811]\n",
      " [ 0.42360576  0.57639424]\n",
      " [ 0.86255854  0.13744146]\n",
      " [ 0.28967967  0.71032033]\n",
      " [ 0.83929181  0.16070819]\n",
      " [ 0.8455383   0.1544617 ]\n",
      " [ 0.52016791  0.47983209]\n",
      " [ 0.27122378  0.72877622]\n",
      " [ 0.86050465  0.13949535]\n",
      " [ 0.82599288  0.17400712]\n",
      " [ 0.74384135  0.25615865]\n",
      " [ 0.13168784  0.86831216]\n",
      " [ 0.78500535  0.21499465]\n",
      " [ 0.90238139  0.09761861]\n",
      " [ 0.83341853  0.16658147]\n",
      " [ 0.08907138  0.91092862]\n",
      " [ 0.91108101  0.08891899]\n",
      " [ 0.71240863  0.28759137]\n",
      " [ 0.89160962  0.10839038]\n",
      " [ 0.3619348   0.6380652 ]\n",
      " [ 0.90572182  0.09427818]\n",
      " [ 0.67962469  0.32037531]\n",
      " [ 0.82891882  0.17108118]\n",
      " [ 0.82975232  0.17024768]\n",
      " [ 0.89027494  0.10972506]\n",
      " [ 0.26313933  0.73686067]\n",
      " [ 0.41415879  0.58584121]\n",
      " [ 0.83619683  0.16380317]]\n"
     ]
    }
   ],
   "source": [
    "gs = gs.fit(X_train, y_train)\n",
    "print('Grid Search Best Score: %.4f' % gs.best_score_)\n",
    "print('Grid Search Best Parameter for C: ', gs.best_params_)\n",
    "\n",
    "print gs.predict_proba(X_test)"
   ]
  },
  {
   "cell_type": "markdown",
   "metadata": {},
   "source": [
    "#### 2. Examine the best parameters and score. Are they different than the logistic regression gridsearch in part 5?"
   ]
  },
  {
   "cell_type": "markdown",
   "metadata": {
    "collapsed": true
   },
   "source": [
    "The best score here is 79% which is high, but still lower than some of the other scores we found earlier which were closer to 82 and 83%. "
   ]
  },
  {
   "cell_type": "markdown",
   "metadata": {},
   "source": [
    "#### 3. Create the confusion matrix. Is it different than when you optimized for the accuracy? If so, why would this be?"
   ]
  },
  {
   "cell_type": "code",
   "execution_count": 48,
   "metadata": {
    "collapsed": false
   },
   "outputs": [
    {
     "data": {
      "text/plain": [
       "array([[175,   0],\n",
       "       [103,  17]])"
      ]
     },
     "execution_count": 48,
     "metadata": {},
     "output_type": "execute_result"
    }
   ],
   "source": [
    "y_10 = make_class(Y_proba, .1)\n",
    "\n",
    "confusion_matrix(y_test, y_10)"
   ]
  },
  {
   "cell_type": "markdown",
   "metadata": {},
   "source": [
    "According to the Confusion Matrix: \n",
    " - We predicted 175 people were dead who were actually dead.\n",
    " - We predicted 0 people alive who were actually dead.\n",
    " - We predicted 103 people alive who were actually dead.\n",
    " - We predicted 17 people alive who were actually alive. "
   ]
  },
  {
   "cell_type": "markdown",
   "metadata": {},
   "source": [
    "This confusion matrix is the opposite of when we minimized the false positive. In this case, our first number is incredibly high and accurate, but our false positives are also incredibly high. "
   ]
  },
  {
   "cell_type": "markdown",
   "metadata": {},
   "source": [
    "#### 4. Plot the precision-recall curve. What does this tell us as opposed to the ROC curve?\n",
    "\n",
    "[See the sklearn plotting example here.](http://scikit-learn.org/stable/auto_examples/model_selection/plot_precision_recall.html)"
   ]
  },
  {
   "cell_type": "code",
   "execution_count": 42,
   "metadata": {
    "collapsed": true
   },
   "outputs": [],
   "source": [
    "from sklearn.metrics import (precision_recall_curve, average_precision_score, f1_score)"
   ]
  },
  {
   "cell_type": "code",
   "execution_count": 43,
   "metadata": {
    "collapsed": false
   },
   "outputs": [
    {
     "data": {
      "image/png": "[encoded data removed]",
      "text/plain": [
       "<matplotlib.figure.Figure at 0x11d995410>"
      ]
     },
     "metadata": {
      "image/png": {
       "height": 508,
       "width": 555
      }
     },
     "output_type": "display_data"
    }
   ],
   "source": [
    "def plot_prauc(mod, X, y, varname):\n",
    "    mod.fit(X, y)\n",
    "    y_pp = mod.predict_proba(X)[:, 1]\n",
    "    precision, recall, _ = precision_recall_curve(y, y_pp)\n",
    "    avg_precision = average_precision_score(y, y_pp)\n",
    "    \n",
    "    fig, axr = plt.subplots(figsize=(8,7))\n",
    "\n",
    "    axr.plot(recall, precision, label='PRAUC (area = %0.2f)' % avg_precision,\n",
    "             color='steelblue', linewidth=4,\n",
    "             alpha=0.7)\n",
    "\n",
    "    axr.set_xlim([-0.05, 1.05])\n",
    "    axr.set_ylim([0.0, 1.05])\n",
    "    axr.set_xlabel('Recall', fontsize=16)\n",
    "    axr.set_ylabel('Precision', fontsize=16)\n",
    "    axr.set_title(varname+' vs. Not (PRAUC curve)\\n', fontsize=20)\n",
    "\n",
    "    axr.legend(loc=\"upper right\", fontsize=12)\n",
    "\n",
    "    plt.show()\n",
    "    \n",
    "plot_prauc(gs, X_test, y_test, 'Survived')"
   ]
  }
 ],
 "metadata": {
  "anaconda-cloud": {},
  "kernelspec": {
   "display_name": "Python [Root]",
   "language": "python",
   "name": "Python [Root]"
  },
  "language_info": {
   "codemirror_mode": {
    "name": "ipython",
    "version": 2
   },
   "file_extension": ".py",
   "mimetype": "text/x-python",
   "name": "python",
   "nbconvert_exporter": "python",
   "pygments_lexer": "ipython2",
   "version": "2.7.12"
  }
 },
 "nbformat": 4,
 "nbformat_minor": 0
}
